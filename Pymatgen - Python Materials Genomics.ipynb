{
 "cells": [
  {
   "cell_type": "markdown",
   "id": "bcb5d3bc",
   "metadata": {},
   "source": [
    "### Install Pymatgen: \n",
    "\n",
    "Pymatgen (Python Materials Genomics) is a robust, open-source Python library for materials analysis.\n",
    "\n",
    "- Official Documentation: https://pymatgen.org/"
   ]
  },
  {
   "attachments": {
    "image.png": {
     "image/png": "[encoded data removed]"
    }
   },
   "cell_type": "markdown",
   "id": "16e9b8bd",
   "metadata": {},
   "source": [
    "![image.png](attachment:image.png)"
   ]
  },
  {
   "cell_type": "code",
   "execution_count": 1,
   "id": "60cb7425",
   "metadata": {},
   "outputs": [
    {
     "name": "stdout",
     "output_type": "stream",
     "text": [
      "Collecting pymatgen\n",
      "  Downloading pymatgen-2023.8.10-cp38-cp38-win_amd64.whl (7.3 MB)\n",
      "     ---------------------------------------- 7.3/7.3 MB 14.2 MB/s eta 0:00:00\n",
      "Collecting pydantic<2.0.0\n",
      "  Downloading pydantic-1.10.22-cp38-cp38-win_amd64.whl (2.3 MB)\n",
      "     ---------------------------------------- 2.3/2.3 MB 29.4 MB/s eta 0:00:00\n",
      "Requirement already satisfied: numpy>=1.20.1 in c:\\users\\ellen\\anaconda3\\lib\\site-packages (from pymatgen) (1.24.3)\n",
      "Requirement already satisfied: pandas in c:\\users\\ellen\\anaconda3\\lib\\site-packages (from pymatgen) (1.4.4)\n",
      "Collecting monty>=3.0.2\n",
      "  Downloading monty-2023.9.25-py3-none-any.whl (63 kB)\n",
      "     ---------------------------------------- 63.4/63.4 kB 3.5 MB/s eta 0:00:00\n",
      "Requirement already satisfied: scipy>=1.5.0 in c:\\users\\ellen\\anaconda3\\lib\\site-packages (from pymatgen) (1.9.1)\n",
      "Requirement already satisfied: tabulate in c:\\users\\ellen\\anaconda3\\lib\\site-packages (from pymatgen) (0.9.0)\n",
      "Requirement already satisfied: networkx>=2.2 in c:\\users\\ellen\\anaconda3\\lib\\site-packages (from pymatgen) (2.8.4)\n",
      "Requirement already satisfied: matplotlib>=1.5 in c:\\users\\ellen\\anaconda3\\lib\\site-packages (from pymatgen) (3.7.4)\n",
      "Collecting spglib>=2.0.2\n",
      "  Downloading spglib-2.4.0-cp38-cp38-win_amd64.whl (299 kB)\n",
      "     -------------------------------------- 299.3/299.3 kB 9.3 MB/s eta 0:00:00\n",
      "Requirement already satisfied: ruamel.yaml>=0.17.0 in c:\\users\\ellen\\anaconda3\\lib\\site-packages (from pymatgen) (0.17.21)\n",
      "Requirement already satisfied: plotly>=4.5.0 in c:\\users\\ellen\\anaconda3\\lib\\site-packages (from pymatgen) (5.18.0)\n",
      "Requirement already satisfied: joblib in c:\\users\\ellen\\anaconda3\\lib\\site-packages (from pymatgen) (1.1.1)\n",
      "Requirement already satisfied: sympy in c:\\users\\ellen\\anaconda3\\lib\\site-packages (from pymatgen) (1.10.1)\n",
      "Collecting uncertainties>=3.1.4\n",
      "  Downloading uncertainties-3.2.3-py3-none-any.whl (60 kB)\n",
      "     ---------------------------------------- 60.1/60.1 kB 3.3 MB/s eta 0:00:00\n",
      "Collecting mp-api>=0.27.3\n",
      "  Downloading mp_api-0.35.1-py3-none-any.whl (97 kB)\n",
      "     ---------------------------------------- 97.3/97.3 kB ? eta 0:00:00\n",
      "Requirement already satisfied: tqdm in c:\\users\\ellen\\anaconda3\\lib\\site-packages (from pymatgen) (4.64.1)\n",
      "Collecting palettable>=3.1.1\n",
      "  Downloading palettable-3.3.3-py2.py3-none-any.whl (332 kB)\n",
      "     ---------------------------------------- 332.3/332.3 kB ? eta 0:00:00\n",
      "Collecting pybtex\n",
      "  Downloading pybtex-0.24.0-py2.py3-none-any.whl (561 kB)\n",
      "     ------------------------------------- 561.4/561.4 kB 36.7 MB/s eta 0:00:00\n",
      "Requirement already satisfied: requests in c:\\users\\ellen\\anaconda3\\lib\\site-packages (from pymatgen) (2.28.1)\n",
      "Requirement already satisfied: kiwisolver>=1.0.1 in c:\\users\\ellen\\anaconda3\\lib\\site-packages (from matplotlib>=1.5->pymatgen) (1.4.2)\n",
      "Requirement already satisfied: python-dateutil>=2.7 in c:\\users\\ellen\\anaconda3\\lib\\site-packages (from matplotlib>=1.5->pymatgen) (2.8.2)\n",
      "Requirement already satisfied: pillow>=6.2.0 in c:\\users\\ellen\\anaconda3\\lib\\site-packages (from matplotlib>=1.5->pymatgen) (9.2.0)\n",
      "Requirement already satisfied: fonttools>=4.22.0 in c:\\users\\ellen\\anaconda3\\lib\\site-packages (from matplotlib>=1.5->pymatgen) (4.25.0)\n",
      "Requirement already satisfied: pyparsing>=2.3.1 in c:\\users\\ellen\\anaconda3\\lib\\site-packages (from matplotlib>=1.5->pymatgen) (3.0.9)\n",
      "Requirement already satisfied: packaging>=20.0 in c:\\users\\ellen\\anaconda3\\lib\\site-packages (from matplotlib>=1.5->pymatgen) (21.3)\n",
      "Requirement already satisfied: contourpy>=1.0.1 in c:\\users\\ellen\\anaconda3\\lib\\site-packages (from matplotlib>=1.5->pymatgen) (1.1.1)\n",
      "Requirement already satisfied: importlib-resources>=3.2.0 in c:\\users\\ellen\\anaconda3\\lib\\site-packages (from matplotlib>=1.5->pymatgen) (5.2.0)\n",
      "Requirement already satisfied: cycler>=0.10 in c:\\users\\ellen\\anaconda3\\lib\\site-packages (from matplotlib>=1.5->pymatgen) (0.11.0)\n",
      "Collecting emmet-core>=0.54.0\n",
      "  Downloading emmet_core-0.68.0-py3-none-any.whl (170 kB)\n",
      "     ---------------------------------------- 170.7/170.7 kB ? eta 0:00:00\n",
      "Requirement already satisfied: msgpack in c:\\users\\ellen\\anaconda3\\lib\\site-packages (from mp-api>=0.27.3->pymatgen) (1.0.3)\n",
      "Requirement already satisfied: typing-extensions>=3.7.4.1 in c:\\users\\ellen\\anaconda3\\lib\\site-packages (from mp-api>=0.27.3->pymatgen) (4.12.2)\n",
      "Requirement already satisfied: setuptools in c:\\users\\ellen\\anaconda3\\lib\\site-packages (from mp-api>=0.27.3->pymatgen) (63.4.1)\n",
      "Requirement already satisfied: tenacity>=6.2.0 in c:\\users\\ellen\\anaconda3\\lib\\site-packages (from plotly>=4.5.0->pymatgen) (8.2.3)\n",
      "Requirement already satisfied: certifi>=2017.4.17 in c:\\users\\ellen\\anaconda3\\lib\\site-packages (from requests->pymatgen) (2024.2.2)\n",
      "Requirement already satisfied: idna<4,>=2.5 in c:\\users\\ellen\\anaconda3\\lib\\site-packages (from requests->pymatgen) (3.4)\n",
      "Requirement already satisfied: urllib3<1.27,>=1.21.1 in c:\\users\\ellen\\anaconda3\\lib\\site-packages (from requests->pymatgen) (1.26.12)\n",
      "Requirement already satisfied: charset-normalizer<3,>=2 in c:\\users\\ellen\\anaconda3\\lib\\site-packages (from requests->pymatgen) (2.0.4)\n",
      "Requirement already satisfied: ruamel.yaml.clib>=0.2.6 in c:\\users\\ellen\\anaconda3\\lib\\site-packages (from ruamel.yaml>=0.17.0->pymatgen) (0.2.6)\n",
      "Requirement already satisfied: pytz>=2020.1 in c:\\users\\ellen\\anaconda3\\lib\\site-packages (from pandas->pymatgen) (2022.1)\n",
      "Requirement already satisfied: PyYAML>=3.01 in c:\\users\\ellen\\anaconda3\\lib\\site-packages (from pybtex->pymatgen) (6.0)\n",
      "Collecting latexcodec>=1.0.4\n",
      "  Downloading latexcodec-3.0.0-py3-none-any.whl (18 kB)\n",
      "Requirement already satisfied: six in c:\\users\\ellen\\anaconda3\\lib\\site-packages (from pybtex->pymatgen) (1.16.0)\n",
      "Requirement already satisfied: mpmath>=0.19 in c:\\users\\ellen\\anaconda3\\lib\\site-packages (from sympy->pymatgen) (1.2.1)\n",
      "Requirement already satisfied: colorama in c:\\users\\ellen\\anaconda3\\lib\\site-packages (from tqdm->pymatgen) (0.4.5)\n",
      "Requirement already satisfied: zipp>=3.1.0 in c:\\users\\ellen\\anaconda3\\lib\\site-packages (from importlib-resources>=3.2.0->matplotlib>=1.5->pymatgen) (3.8.0)\n",
      "Installing collected packages: uncertainties, pydantic, palettable, monty, latexcodec, spglib, pybtex, emmet-core, mp-api, pymatgen\n",
      "  Attempting uninstall: pydantic\n",
      "    Found existing installation: pydantic 2.10.6\n",
      "    Uninstalling pydantic-2.10.6:\n",
      "      Successfully uninstalled pydantic-2.10.6\n",
      "Successfully installed emmet-core-0.68.0 latexcodec-3.0.0 monty-2023.9.25 mp-api-0.35.1 palettable-3.3.3 pybtex-0.24.0 pydantic-1.10.22 pymatgen-2023.8.10 spglib-2.4.0 uncertainties-3.2.3\n",
      "Note: you may need to restart the kernel to use updated packages.\n"
     ]
    }
   ],
   "source": [
    "pip install pymatgen"
   ]
  },
  {
   "cell_type": "code",
   "execution_count": 1,
   "id": "66eec889",
   "metadata": {},
   "outputs": [],
   "source": [
    "#Importing Libraries. \n",
    "\n",
    "import pandas as pd\n",
    "import numpy as np\n",
    "import pymatgen\n",
    "import matplotlib.pyplot as plt\n",
    "\n",
    "from pymatgen.core import Structure\n",
    "from pymatgen.analysis.diffraction.xrd import XRDCalculator\n",
    "from pymatgen.analysis.diffraction.neutron import NDCalculator\n",
    "from pymatgen.analysis.diffraction.tem import TEMCalculator\n",
    "from pymatgen.analysis.diffraction.tem import TEMCalculator\n",
    "import plotly.graph_objects as go"
   ]
  },
  {
   "cell_type": "markdown",
   "id": "44e86dfb",
   "metadata": {},
   "source": [
    "Here you can choose the structure you want to analyze.\n",
    "\n",
    "My information is from [1]: https://aflowlib.org/p/AB_hP4_194_c_d-001/"
   ]
  },
  {
   "attachments": {
    "image.png": {
     "image/png": "[encoded data removed]"
    }
   },
   "cell_type": "markdown",
   "id": "d86d83d5",
   "metadata": {},
   "source": [
    "![image.png](attachment:image.png)"
   ]
  },
  {
   "cell_type": "markdown",
   "id": "ad334f0f",
   "metadata": {},
   "source": [
    "### i) XRD - X-ray Diffraction Analysis: "
   ]
  },
  {
   "cell_type": "markdown",
   "id": "b8ef5cb5",
   "metadata": {},
   "source": [
    "Powder X-Ray Diffraction is one of the most common techniques for characterizing crystalline materials. Pymatgen includes an XRDCalculator class that makes it simple to calculate powder diffraction patterns for comparison with experiments[2].\n",
    "\n",
    "The XRDCalculator supports [2]:\n",
    "\n",
    "- Different x-ray wavelengths\n",
    "- User-supplied Debye-Waller factors\n",
    "- Does not include more advanced effects such as peak broadening or preferred orientation effects. "
   ]
  },
  {
   "cell_type": "code",
   "execution_count": 2,
   "id": "8561eede",
   "metadata": {},
   "outputs": [
    {
     "name": "stderr",
     "output_type": "stream",
     "text": [
      "C:\\Users\\ellen\\anaconda3\\lib\\site-packages\\pymatgen\\io\\cif.py:1168: UserWarning: Issues encountered while parsing CIF: Some fractional coordinates rounded to ideal values to avoid issues with finite precision.\n",
      "  warnings.warn(\"Issues encountered while parsing CIF: \" + \"\\n\".join(self.warnings))\n"
     ]
    },
    {
     "data": {
      "text/plain": [
       "Structure Summary\n",
       "Lattice\n",
       "    abc : 2.504 2.504 6.66119088\n",
       " angles : 90.0 90.0 120.00000000000001\n",
       " volume : 36.170220770206726\n",
       "      A : 2.504 0.0 1.5332577925324863e-16\n",
       "      B : -1.2519999999999998 2.1685276110762346 1.5332577925324863e-16\n",
       "      C : 0.0 0.0 6.66119088\n",
       "    pbc : True True True\n",
       "PeriodicSite: B1 (B) (1.944e-16, 1.446, 1.665) [0.3333, 0.6667, 0.25]\n",
       "PeriodicSite: B1 (B) (1.252, 0.7228, 4.996) [0.6667, 0.3333, 0.75]\n",
       "PeriodicSite: N2 (N) (1.944e-16, 1.446, 4.996) [0.3333, 0.6667, 0.75]\n",
       "PeriodicSite: N2 (N) (1.252, 0.7228, 1.665) [0.6667, 0.3333, 0.25]"
      ]
     },
     "execution_count": 2,
     "metadata": {},
     "output_type": "execute_result"
    }
   ],
   "source": [
    "structure_bn = Structure.from_file(\"BN.cif\")\n",
    "structure_bn"
   ]
  },
  {
   "cell_type": "code",
   "execution_count": 3,
   "id": "64b64fb9",
   "metadata": {},
   "outputs": [
    {
     "name": "stdout",
     "output_type": "stream",
     "text": [
      "2θ (degrees)\n",
      "[26.76680733 41.6486595  43.90871054 50.20215214 55.15296381 59.59298046\n",
      " 71.42042315 76.01298987 82.2674712  85.5535731  87.95858675]\n",
      "Intensity\n",
      "[100.          16.10252013   5.26174828  15.62058767   7.19313353\n",
      "   1.25309502   4.12851663   6.76173783  10.82845525   0.14947579\n",
      "   1.54770575]\n",
      "hkil (peak labels)\n",
      "[[{'hkl': (0, 0, 0, 2), 'multiplicity': 2}], [{'hkl': (1, 0, -1, 0), 'multiplicity': 6}], [{'hkl': (1, 0, -1, 1), 'multiplicity': 12}], [{'hkl': (1, 0, -1, 2), 'multiplicity': 12}], [{'hkl': (0, 0, 0, 4), 'multiplicity': 2}], [{'hkl': (1, 0, -1, 3), 'multiplicity': 12}], [{'hkl': (1, 0, -1, 4), 'multiplicity': 12}], [{'hkl': (2, -1, -1, 0), 'multiplicity': 6}], [{'hkl': (2, -1, -1, 2), 'multiplicity': 12}], [{'hkl': (1, 0, -1, 5), 'multiplicity': 12}], [{'hkl': (0, 0, 0, 6), 'multiplicity': 2}]]\n"
     ]
    }
   ],
   "source": [
    "xrd_calculator = XRDCalculator(wavelength=\"CuKa\")\n",
    "xrd_pattern = xrd_calculator.get_pattern(structure_bn)\n",
    "\n",
    "print(\"2θ (degrees)\")\n",
    "print(xrd_pattern.x)\n",
    "print(\"Intensity\")\n",
    "print(xrd_pattern.y)\n",
    "print(\"hkil (peak labels)\")\n",
    "print(xrd_pattern.hkls)"
   ]
  },
  {
   "cell_type": "code",
   "execution_count": null,
   "id": "adfae24c",
   "metadata": {},
   "outputs": [],
   "source": [
    "plt.figure(figsize=(10, 6))\n",
    "plt.bar(xrd_pattern.x, xrd_pattern.y, width=0.1, color=\"blue\", label=\"XRD Pattern\")\n",
    "plt.title(\"Powder XRD Pattern - Boron Nitride (BN)\")\n",
    "plt.xlabel(\"2θ (degrees)\")\n",
    "plt.ylabel(\"Intensity\")\n",
    "\n",
    "# Label significant peaks\n",
    "# note: highest peak should be 100\n",
    "intensity_cutoff = 5  \n",
    "for i, (two_theta, intensity) in enumerate(zip(xrd_pattern.x, xrd_pattern.y)):\n",
    "    if intensity > intensity_cutoff:  # Only label peaks with significant intensity\n",
    "        hkl = xrd_pattern.hkls[i][0]['hkl']  # Extract the first hkl tuple for each peak\n",
    "        plt.text(two_theta, intensity + 2, f\"{hkl}\", rotation=90, fontsize=8, ha=\"center\", va=\"bottom\")\n",
    "\n",
    "plt.margins(y=0.2)  # prevent labels from exceeding plot boundary'''\n",
    "plt.show()"
   ]
  },
  {
   "cell_type": "markdown",
   "id": "ac5bbce4",
   "metadata": {},
   "source": [
    "### ii) NPD - Neutron Powder Diffraction Analysis: "
   ]
  },
  {
   "cell_type": "markdown",
   "id": "68d92157",
   "metadata": {},
   "source": [
    "Neutron powder diffraction is a complementary technique to powder X-Ray Diffraction, offering higher sensitivity for ligher elements and better contrast between certain elements [2].\n",
    "\n",
    "Pymatgen includes an NDCalculator that is similar to XRDCalculator for calculating neutron powder diffraction patterns. Note that while the current implementation takes into account isotope effects, it does not take into account magnetic configuration effects [2]."
   ]
  },
  {
   "cell_type": "code",
   "execution_count": 5,
   "id": "bb5f43c0",
   "metadata": {},
   "outputs": [
    {
     "name": "stdout",
     "output_type": "stream",
     "text": [
      "2θ (degrees)\n",
      "[31.35494938 49.04217832 51.75734143 59.37190197 65.42772476 70.91844325\n",
      " 85.90881157]\n",
      "Intensity\n",
      "[100.          33.64593415  14.15673076  49.4914352   28.607704\n",
      "   8.8516861   31.0308293 ]\n",
      "hkl (peak labels)\n",
      "[[{'hkl': (0, 0, 0, 2), 'multiplicity': 2}], [{'hkl': (1, 0, -1, 0), 'multiplicity': 6}], [{'hkl': (1, 0, -1, 1), 'multiplicity': 12}], [{'hkl': (1, 0, -1, 2), 'multiplicity': 12}], [{'hkl': (0, 0, 0, 4), 'multiplicity': 2}], [{'hkl': (1, 0, -1, 3), 'multiplicity': 12}], [{'hkl': (1, 0, -1, 4), 'multiplicity': 12}]]\n"
     ]
    }
   ],
   "source": [
    "neutron_calculator = NDCalculator(wavelength=1.8)\n",
    "neutron_pattern = neutron_calculator.get_pattern(structure_bn)\n",
    "\n",
    "print(\"2θ (degrees)\")\n",
    "print(neutron_pattern.x)\n",
    "print(\"Intensity\")\n",
    "print(neutron_pattern.y)\n",
    "print(\"hkl (peak labels)\")\n",
    "print(neutron_pattern.hkls)"
   ]
  },
  {
   "cell_type": "code",
   "execution_count": null,
   "id": "4a6021ef",
   "metadata": {},
   "outputs": [],
   "source": [
    "plt.figure(figsize=(10, 6))\n",
    "plt.bar(neutron_pattern.x, neutron_pattern.y, width=0.1, color=\"red\", label=\"Neutron Diffraction Pattern\")\n",
    "plt.title(\"Neutron Diffraction Pattern - Boron Nitride (BN)\")\n",
    "plt.xlabel(\"2θ (degrees)\")\n",
    "plt.ylabel(\"Intensity\")\n",
    "\n",
    "intensity_cutoff = 5\n",
    "for i, (two_theta, intensity) in enumerate(zip(neutron_pattern.x, neutron_pattern.y)):\n",
    "    if intensity > intensity_cutoff: \n",
    "        hkl = neutron_pattern.hkls[i][0]['hkl']\n",
    "        plt.text(two_theta, intensity + 2, f\"{hkl}\", rotation=90, fontsize=9, ha=\"center\", va=\"bottom\")\n",
    "\n",
    "plt.margins(y=0.2)\n",
    "plt.show()"
   ]
  },
  {
   "cell_type": "markdown",
   "id": "99cc355d",
   "metadata": {},
   "source": [
    "### iii) TEM - Transmission Electron Microscopy:"
   ]
  },
  {
   "cell_type": "markdown",
   "id": "8a611c5b",
   "metadata": {},
   "source": [
    "Pymatgen includes the TEMCalculator module that can generate TEM diffraction images, i.e., from the transmission electron microscopy selected area electron diffraction (TEM-SAED) method [2]."
   ]
  },
  {
   "cell_type": "code",
   "execution_count": null,
   "id": "0a141a1c",
   "metadata": {},
   "outputs": [],
   "source": [
    "tem_calculator = TEMCalculator()\n",
    "fig = tem_calculator.get_plot_2d(structure_bn)\n",
    "\n",
    "\n",
    "fig.update_layout(\n",
    "    title=\"TEM Diffraction (SAED) Pattern - Boron Nitride (BN)\",\n",
    "    xaxis_title=\"Reciprocal Space X\",\n",
    "    yaxis_title=\"Reciprocal Space Y\",\n",
    "    xaxis=dict(scaleanchor=\"y\"),\n",
    "    showlegend=False)\n",
    "\n",
    "fig.show()"
   ]
  },
  {
   "cell_type": "code",
   "execution_count": 33,
   "id": "ee72c2ba",
   "metadata": {},
   "outputs": [
    {
     "data": {
      "application/vnd.plotly.v1+json": {
       "config": {
        "plotlyServerURL": "https://plot.ly"
       },
       "data": [
        {
         "hoverinfo": "text",
         "marker": {
          "cmax": 1,
          "cmin": 0,
          "color": [
           8.206297023965607e-07,
           5.723956228496533e-07,
           1.4924312311865162e-06,
           1.4537916796309766e-05,
           8.262295091921218e-06,
           1.752408416114915e-05,
           0.00013863740819800753,
           6.389151246464995e-05,
           0.00010972539736927195,
           0.0007019347511311993,
           0.0002612652940268649,
           0.00036200944577294584,
           0.0018668567436371465,
           0.000559730864120454,
           0.0006243105757831644,
           0.0025898885961946477,
           0.0006243105757831805,
           0.0005597308641204397,
           0.001866856743637143,
           0.0003620094457729514,
           0.00026126529402686015,
           0.0007019347511311993,
           5.723956228496181e-07,
           6.185775991501851e-06,
           3.903158404427947e-06,
           9.198054650179837e-06,
           8.090780732843716e-05,
           4.1484321782717853e-05,
           7.931092802334481e-05,
           0.0005651070148399843,
           0.00023437678888481146,
           0.00036200944577294595,
           0.002081869865191966,
           0.0006964423420185509,
           0.000867204490915862,
           0.0040176351136132415,
           0.001081276400585631,
           0.0010812764005856408,
           0.0040176351136132415,
           0.0008672044909158707,
           0.0006964423420185499,
           0.0020818698651919633,
           0.00036200944577294465,
           0.00023437678888481176,
           1.4924312311866081e-06,
           3.903158404427755e-06,
           3.81321773421891e-05,
           2.1731508417512523e-05,
           4.621110619395142e-05,
           0.0003664607391531488,
           0.00016925324800557838,
           0.000291253234825068,
           0.0018668567436371465,
           0.0006964423420185608,
           0.000968129997836591,
           0.0050167612627308915,
           0.001513400789400506,
           0.0016973984989015949,
           0.007057580660605612,
           0.0016973984989016105,
           0.0015134007894004728,
           0.005016761262730888,
           0.0009681299978365987,
           0.0006964423420185487,
           0.001866856743637143,
           0.0002912532348250708,
           1.4537916796309766e-05,
           9.198054650180291e-06,
           2.173150841751145e-05,
           0.00019161574756774023,
           9.846844976408018e-05,
           0.00018864391531158553,
           0.0013467460663294593,
           0.000559730864120455,
           0.000867204490915863,
           0.005016761262730888,
           0.0016973984989016287,
           0.0021518053745524525,
           0.010177421533037774,
           0.0027788892664715433,
           0.0027788892664715008,
           0.01017742153303776,
           0.0021518053745524903,
           0.0016973984989016027,
           0.005016761262730888,
           0.000867204490915866,
           0.0005597308641204459,
           0.001346746066329457,
           8.262295091920913e-06,
           8.090780732843706e-05,
           4.6211106193952566e-05,
           9.846844976407775e-05,
           0.0007823644859772865,
           0.00036200944577295533,
           0.0006243105757831646,
           0.0040176351136132415,
           0.0015134007894004864,
           0.0021518053745524473,
           0.01163306709240897,
           0.0037223957047406806,
           0.004410424136217711,
           0.018759003725896874,
           0.004410424136217674,
           0.0037223957047406915,
           0.01163306709240897,
           0.0021518053745524525,
           0.0015134007894005012,
           0.00401763511361324,
           0.000624310575783163,
           0.0003620094457729519,
           1.752408416115023e-05,
           4.1484321782716315e-05,
           0.0003664607391531488,
           0.00018864391531159478,
           0.0003620094457729465,
           0.0025898885961946477,
           0.0010812764005856503,
           0.0016973984989015942,
           0.010177421533037774,
           0.0037223957047407027,
           0.005350220039874917,
           0.029133961581561143,
           0.008744316516299077,
           0.008744316516298962,
           0.02913396158156113,
           0.005350220039874955,
           0.0037223957047406338,
           0.01017742153303776,
           0.0016973984989016072,
           0.0010812764005856345,
           0.0025898885961946434,
           0.00036200944577294915,
           0.000138637408198007,
           7.931092802334774e-05,
           0.00016925324800557215,
           0.0013467460663294593,
           0.0006243105757831797,
           0.0010812764005856171,
           0.007057580660605612,
           0.002778889266471527,
           0.00441042413621766,
           0.029133961581561143,
           0.01204144587630932,
           0.017757708200521825,
           0.08239118976257517,
           0.01775770820052202,
           0.012041445876309252,
           0.02913396158156113,
           0.004410424136217722,
           0.002778889266471519,
           0.007057580660605612,
           0.0010812764005856232,
           0.0006243105757831741,
           0.001346746066329457,
           6.389151246464749e-05,
           0.0005651070148399835,
           0.00029125323482507524,
           0.0005597308641204413,
           0.0040176351136132415,
           0.0016973984989016263,
           0.0027788892664714925,
           0.018759003725896874,
           0.008744316516299077,
           0.017757708200521947,
           0.13891667017393985,
           0.05420352639984483,
           0.054203526399845055,
           0.13891667017393985,
           0.01775770820052185,
           0.008744316516299085,
           0.018759003725896863,
           0.002778889266471496,
           0.0016973984989016235,
           0.00401763511361324,
           0.0005597308641204352,
           0.000291253234825073,
           0.00010972539736927649,
           0.0002343767888848054,
           0.0018668567436371465,
           0.0008672044909158844,
           0.0015134007894004767,
           0.01017742153303776,
           0.004410424136217742,
           0.008744316516298967,
           0.08239118976257517,
           0.054203526399845166,
           0.14371480095473246,
           0.9280261023463662,
           0.14371480095473274,
           0.05420352639984475,
           0.08239118976257517,
           0.008744316516298997,
           0.004410424136217671,
           0.01017742153303776,
           0.001513400789400483,
           0.0008672044909158759,
           0.001866856743637143,
           0.0002343767888848088,
           0.0007019347511311993,
           0.00036200944577295256,
           0.0006964423420185436,
           0.005016761262730888,
           0.002151805374552458,
           0.0037223957047406203,
           0.029133961581561143,
           0.017757708200521995,
           0.05420352639984464,
           0.9280261023463662,
           1,
           0.9999999999999974,
           0.9280261023463662,
           0.05420352639984508,
           0.017757708200521957,
           0.02913396158156113,
           0.003722395704740693,
           0.002151805374552486,
           0.005016761262730888,
           0.00069644234201854,
           0.0003620094457729564,
           0.0007019347511311993,
           0.0002612652940268552,
           0.002081869865191966,
           0.0009681299978366075,
           0.001697398498901597,
           0.01163306709240897,
           0.005350220039875014,
           0.012041445876309197,
           0.13891667017393985,
           0.14371480095473307,
           0.9999999999999963,
           0.9999999999999963,
           0.14371480095473307,
           0.13891667017393985,
           0.012041445876309197,
           0.005350220039875014,
           0.01163306709240897,
           0.001697398498901597,
           0.0009681299978366075,
           0.002081869865191966,
           0.0002612652940268552,
           0.0001222745410642333,
           0.0003620094457729564,
           0.00069644234201854,
           0.005016761262730888,
           0.002151805374552486,
           0.003722395704740693,
           0.02913396158156113,
           0.017757708200521957,
           0.05420352639984508,
           0.9280261023463662,
           0.9999999999999974,
           1,
           0.9280261023463662,
           0.05420352639984464,
           0.017757708200521995,
           0.029133961581561143,
           0.0037223957047406203,
           0.002151805374552458,
           0.005016761262730888,
           0.0006964423420185436,
           0.00036200944577295256,
           0.0007019347511311993,
           7.931092802334595e-05,
           0.001866856743637143,
           0.0008672044909158759,
           0.001513400789400483,
           0.01017742153303776,
           0.004410424136217671,
           0.008744316516298997,
           0.08239118976257517,
           0.05420352639984475,
           0.14371480095473274,
           0.9280261023463662,
           0.14371480095473246,
           0.054203526399845166,
           0.08239118976257517,
           0.008744316516298967,
           0.004410424136217742,
           0.01017742153303776,
           0.0015134007894004767,
           0.0008672044909158844,
           0.0018668567436371465,
           0.0002343767888848054,
           0.00010972539736927649,
           0.00019161574756773999,
           0.0005597308641204352,
           0.00401763511361324,
           0.0016973984989016235,
           0.002778889266471496,
           0.018759003725896863,
           0.008744316516299085,
           0.01775770820052185,
           0.13891667017393985,
           0.054203526399845055,
           0.05420352639984483,
           0.13891667017393985,
           0.017757708200521947,
           0.008744316516299077,
           0.018759003725896874,
           0.0027788892664714925,
           0.0016973984989016263,
           0.0040176351136132415,
           0.0005597308641204413,
           0.00029125323482507524,
           0.0005651070148399835,
           6.389151246464749e-05,
           2.6953543789230084e-05,
           0.0006243105757831741,
           0.0010812764005856232,
           0.007057580660605612,
           0.002778889266471519,
           0.004410424136217722,
           0.02913396158156113,
           0.012041445876309252,
           0.01775770820052202,
           0.08239118976257517,
           0.017757708200521825,
           0.01204144587630932,
           0.029133961581561143,
           0.00441042413621766,
           0.002778889266471527,
           0.007057580660605612,
           0.0010812764005856171,
           0.0006243105757831797,
           0.0013467460663294593,
           0.00016925324800557215,
           7.931092802334774e-05,
           0.000138637408198007,
           1.4133567700449055e-05,
           0.0025898885961946434,
           0.0010812764005856345,
           0.0016973984989016072,
           0.01017742153303776,
           0.0037223957047406338,
           0.005350220039874955,
           0.02913396158156113,
           0.008744316516298962,
           0.008744316516299077,
           0.029133961581561143,
           0.005350220039874917,
           0.0037223957047407027,
           0.010177421533037774,
           0.0016973984989015942,
           0.0010812764005856503,
           0.0025898885961946477,
           0.0003620094457729465,
           0.00018864391531159478,
           0.0003664607391531488,
           4.1484321782716315e-05,
           1.752408416115023e-05,
           2.7640151270912527e-05,
           0.000624310575783163,
           0.00401763511361324,
           0.0015134007894005012,
           0.0021518053745524525,
           0.01163306709240897,
           0.0037223957047406915,
           0.004410424136217674,
           0.018759003725896874,
           0.004410424136217711,
           0.0037223957047406806,
           0.01163306709240897,
           0.0021518053745524473,
           0.0015134007894004864,
           0.0040176351136132415,
           0.0006243105757831646,
           0.00036200944577295533,
           0.0007823644859772865,
           9.846844976407775e-05,
           4.6211106193952566e-05,
           8.090780732843706e-05,
           8.262295091920913e-06,
           3.1514955690014676e-06,
           0.0005597308641204459,
           0.000867204490915866,
           0.005016761262730888,
           0.0016973984989016027,
           0.0021518053745524903,
           0.01017742153303776,
           0.0027788892664715008,
           0.0027788892664715433,
           0.010177421533037774,
           0.0021518053745524525,
           0.0016973984989016287,
           0.005016761262730888,
           0.000867204490915863,
           0.000559730864120455,
           0.0013467460663294593,
           0.00018864391531158553,
           9.846844976408018e-05,
           0.00019161574756774023,
           2.173150841751145e-05,
           9.198054650180291e-06,
           1.4537916796309766e-05,
           1.3414843492223966e-06,
           0.001866856743637143,
           0.0006964423420185487,
           0.0009681299978365987,
           0.005016761262730888,
           0.0015134007894004728,
           0.0016973984989016105,
           0.007057580660605612,
           0.0016973984989015949,
           0.001513400789400506,
           0.0050167612627308915,
           0.000968129997836591,
           0.0006964423420185608,
           0.0018668567436371465,
           0.000291253234825068,
           0.00016925324800557838,
           0.0003664607391531488,
           4.621110619395142e-05,
           2.1731508417512523e-05,
           3.81321773421891e-05,
           3.903158404427755e-06,
           1.4924312311866081e-06,
           2.132937530726963e-06,
           0.00036200944577294465,
           0.0020818698651919633,
           0.0006964423420185499,
           0.0008672044909158707,
           0.0040176351136132415,
           0.0010812764005856408,
           0.001081276400585631,
           0.0040176351136132415,
           0.000867204490915862,
           0.0006964423420185509,
           0.002081869865191966,
           0.00036200944577294595,
           0.00023437678888481146,
           0.0005651070148399843,
           7.931092802334481e-05,
           4.1484321782717853e-05,
           8.090780732843716e-05,
           9.198054650179837e-06,
           3.903158404427947e-06,
           6.185775991501851e-06,
           5.723956228496181e-07,
           1.980372473327729e-07,
           0.00026126529402686015,
           0.0003620094457729514,
           0.001866856743637143,
           0.0005597308641204397,
           0.0006243105757831805,
           0.0025898885961946477,
           0.0006243105757831644,
           0.000559730864120454,
           0.0018668567436371465,
           0.00036200944577294584,
           0.0002612652940268649,
           0.0007019347511311993,
           0.00010972539736927195,
           6.389151246464995e-05,
           0.00013863740819800753,
           1.752408416114915e-05,
           8.262295091921218e-06,
           1.4537916796309766e-05,
           1.4924312311865162e-06,
           5.723956228496533e-07,
           8.206297023965607e-07,
           6.875451416897003e-08,
           0.0007019347511311993,
           0.0002343767888848096,
           0.00029125323482507263,
           0.0013467460663294593,
           0.00036200944577294573,
           0.0003620094457729519,
           0.0013467460663294593,
           0.00029125323482506765,
           0.0002343767888848131,
           0.0007019347511312004,
           0.000122274541064231,
           7.931092802334792e-05,
           0.00019161574756774023,
           2.6953543789229084e-05,
           1.4133567700449572e-05,
           2.7640151270912527e-05,
           3.1514955690013516e-06,
           1.3414843492224627e-06,
           2.132937530726963e-06,
           1.9803724733276794e-07,
           6.875451416897342e-08,
           8.930225559358617e-08
          ],
          "colorscale": [
           [
            0,
            "black"
           ],
           [
            1,
            "white"
           ]
          ],
          "size": 8
         },
         "mode": "markers",
         "showlegend": false,
         "text": [
          "(1̅0, 1̅0, 0)",
          "(9̅, 1̅0, 0)",
          "(8̅, 1̅0, 0)",
          "(7̅, 1̅0, 0)",
          "(6̅, 1̅0, 0)",
          "(5̅, 1̅0, 0)",
          "(4̅, 1̅0, 0)",
          "(3̅, 1̅0, 0)",
          "(2̅, 1̅0, 0)",
          "(1̅, 1̅0, 0)",
          "(0, 1̅0, 0)",
          "(1, 1̅0, 0)",
          "(2, 1̅0, 0)",
          "(3, 1̅0, 0)",
          "(4, 1̅0, 0)",
          "(5, 1̅0, 0)",
          "(6, 1̅0, 0)",
          "(7, 1̅0, 0)",
          "(8, 1̅0, 0)",
          "(9, 1̅0, 0)",
          "(10, 1̅0, 0)",
          "(11, 1̅0, 0)",
          "(1̅0, 9̅, 0)",
          "(9̅, 9̅, 0)",
          "(8̅, 9̅, 0)",
          "(7̅, 9̅, 0)",
          "(6̅, 9̅, 0)",
          "(5̅, 9̅, 0)",
          "(4̅, 9̅, 0)",
          "(3̅, 9̅, 0)",
          "(2̅, 9̅, 0)",
          "(1̅, 9̅, 0)",
          "(0, 9̅, 0)",
          "(1, 9̅, 0)",
          "(2, 9̅, 0)",
          "(3, 9̅, 0)",
          "(4, 9̅, 0)",
          "(5, 9̅, 0)",
          "(6, 9̅, 0)",
          "(7, 9̅, 0)",
          "(8, 9̅, 0)",
          "(9, 9̅, 0)",
          "(10, 9̅, 0)",
          "(11, 9̅, 0)",
          "(1̅0, 8̅, 0)",
          "(9̅, 8̅, 0)",
          "(8̅, 8̅, 0)",
          "(7̅, 8̅, 0)",
          "(6̅, 8̅, 0)",
          "(5̅, 8̅, 0)",
          "(4̅, 8̅, 0)",
          "(3̅, 8̅, 0)",
          "(2̅, 8̅, 0)",
          "(1̅, 8̅, 0)",
          "(0, 8̅, 0)",
          "(1, 8̅, 0)",
          "(2, 8̅, 0)",
          "(3, 8̅, 0)",
          "(4, 8̅, 0)",
          "(5, 8̅, 0)",
          "(6, 8̅, 0)",
          "(7, 8̅, 0)",
          "(8, 8̅, 0)",
          "(9, 8̅, 0)",
          "(10, 8̅, 0)",
          "(11, 8̅, 0)",
          "(1̅0, 7̅, 0)",
          "(9̅, 7̅, 0)",
          "(8̅, 7̅, 0)",
          "(7̅, 7̅, 0)",
          "(6̅, 7̅, 0)",
          "(5̅, 7̅, 0)",
          "(4̅, 7̅, 0)",
          "(3̅, 7̅, 0)",
          "(2̅, 7̅, 0)",
          "(1̅, 7̅, 0)",
          "(0, 7̅, 0)",
          "(1, 7̅, 0)",
          "(2, 7̅, 0)",
          "(3, 7̅, 0)",
          "(4, 7̅, 0)",
          "(5, 7̅, 0)",
          "(6, 7̅, 0)",
          "(7, 7̅, 0)",
          "(8, 7̅, 0)",
          "(9, 7̅, 0)",
          "(10, 7̅, 0)",
          "(11, 7̅, 0)",
          "(1̅0, 6̅, 0)",
          "(9̅, 6̅, 0)",
          "(8̅, 6̅, 0)",
          "(7̅, 6̅, 0)",
          "(6̅, 6̅, 0)",
          "(5̅, 6̅, 0)",
          "(4̅, 6̅, 0)",
          "(3̅, 6̅, 0)",
          "(2̅, 6̅, 0)",
          "(1̅, 6̅, 0)",
          "(0, 6̅, 0)",
          "(1, 6̅, 0)",
          "(2, 6̅, 0)",
          "(3, 6̅, 0)",
          "(4, 6̅, 0)",
          "(5, 6̅, 0)",
          "(6, 6̅, 0)",
          "(7, 6̅, 0)",
          "(8, 6̅, 0)",
          "(9, 6̅, 0)",
          "(10, 6̅, 0)",
          "(11, 6̅, 0)",
          "(1̅0, 5̅, 0)",
          "(9̅, 5̅, 0)",
          "(8̅, 5̅, 0)",
          "(7̅, 5̅, 0)",
          "(6̅, 5̅, 0)",
          "(5̅, 5̅, 0)",
          "(4̅, 5̅, 0)",
          "(3̅, 5̅, 0)",
          "(2̅, 5̅, 0)",
          "(1̅, 5̅, 0)",
          "(0, 5̅, 0)",
          "(1, 5̅, 0)",
          "(2, 5̅, 0)",
          "(3, 5̅, 0)",
          "(4, 5̅, 0)",
          "(5, 5̅, 0)",
          "(6, 5̅, 0)",
          "(7, 5̅, 0)",
          "(8, 5̅, 0)",
          "(9, 5̅, 0)",
          "(10, 5̅, 0)",
          "(11, 5̅, 0)",
          "(1̅0, 4̅, 0)",
          "(9̅, 4̅, 0)",
          "(8̅, 4̅, 0)",
          "(7̅, 4̅, 0)",
          "(6̅, 4̅, 0)",
          "(5̅, 4̅, 0)",
          "(4̅, 4̅, 0)",
          "(3̅, 4̅, 0)",
          "(2̅, 4̅, 0)",
          "(1̅, 4̅, 0)",
          "(0, 4̅, 0)",
          "(1, 4̅, 0)",
          "(2, 4̅, 0)",
          "(3, 4̅, 0)",
          "(4, 4̅, 0)",
          "(5, 4̅, 0)",
          "(6, 4̅, 0)",
          "(7, 4̅, 0)",
          "(8, 4̅, 0)",
          "(9, 4̅, 0)",
          "(10, 4̅, 0)",
          "(11, 4̅, 0)",
          "(1̅0, 3̅, 0)",
          "(9̅, 3̅, 0)",
          "(8̅, 3̅, 0)",
          "(7̅, 3̅, 0)",
          "(6̅, 3̅, 0)",
          "(5̅, 3̅, 0)",
          "(4̅, 3̅, 0)",
          "(3̅, 3̅, 0)",
          "(2̅, 3̅, 0)",
          "(1̅, 3̅, 0)",
          "(0, 3̅, 0)",
          "(1, 3̅, 0)",
          "(2, 3̅, 0)",
          "(3, 3̅, 0)",
          "(4, 3̅, 0)",
          "(5, 3̅, 0)",
          "(6, 3̅, 0)",
          "(7, 3̅, 0)",
          "(8, 3̅, 0)",
          "(9, 3̅, 0)",
          "(10, 3̅, 0)",
          "(11, 3̅, 0)",
          "(1̅0, 2̅, 0)",
          "(9̅, 2̅, 0)",
          "(8̅, 2̅, 0)",
          "(7̅, 2̅, 0)",
          "(6̅, 2̅, 0)",
          "(5̅, 2̅, 0)",
          "(4̅, 2̅, 0)",
          "(3̅, 2̅, 0)",
          "(2̅, 2̅, 0)",
          "(1̅, 2̅, 0)",
          "(0, 2̅, 0)",
          "(1, 2̅, 0)",
          "(2, 2̅, 0)",
          "(3, 2̅, 0)",
          "(4, 2̅, 0)",
          "(5, 2̅, 0)",
          "(6, 2̅, 0)",
          "(7, 2̅, 0)",
          "(8, 2̅, 0)",
          "(9, 2̅, 0)",
          "(10, 2̅, 0)",
          "(11, 2̅, 0)",
          "(1̅0, 1̅, 0)",
          "(9̅, 1̅, 0)",
          "(8̅, 1̅, 0)",
          "(7̅, 1̅, 0)",
          "(6̅, 1̅, 0)",
          "(5̅, 1̅, 0)",
          "(4̅, 1̅, 0)",
          "(3̅, 1̅, 0)",
          "(2̅, 1̅, 0)",
          "(1̅, 1̅, 0)",
          "(0, 1̅, 0)",
          "(1, 1̅, 0)",
          "(2, 1̅, 0)",
          "(3, 1̅, 0)",
          "(4, 1̅, 0)",
          "(5, 1̅, 0)",
          "(6, 1̅, 0)",
          "(7, 1̅, 0)",
          "(8, 1̅, 0)",
          "(9, 1̅, 0)",
          "(10, 1̅, 0)",
          "(11, 1̅, 0)",
          "(1̅0, 0, 0)",
          "(9̅, 0, 0)",
          "(8̅, 0, 0)",
          "(7̅, 0, 0)",
          "(6̅, 0, 0)",
          "(5̅, 0, 0)",
          "(4̅, 0, 0)",
          "(3̅, 0, 0)",
          "(2̅, 0, 0)",
          "(1̅, 0, 0)",
          "(1, 0, 0)",
          "(2, 0, 0)",
          "(3, 0, 0)",
          "(4, 0, 0)",
          "(5, 0, 0)",
          "(6, 0, 0)",
          "(7, 0, 0)",
          "(8, 0, 0)",
          "(9, 0, 0)",
          "(10, 0, 0)",
          "(11, 0, 0)",
          "(1̅0, 1, 0)",
          "(9̅, 1, 0)",
          "(8̅, 1, 0)",
          "(7̅, 1, 0)",
          "(6̅, 1, 0)",
          "(5̅, 1, 0)",
          "(4̅, 1, 0)",
          "(3̅, 1, 0)",
          "(2̅, 1, 0)",
          "(1̅, 1, 0)",
          "(0, 1, 0)",
          "(1, 1, 0)",
          "(2, 1, 0)",
          "(3, 1, 0)",
          "(4, 1, 0)",
          "(5, 1, 0)",
          "(6, 1, 0)",
          "(7, 1, 0)",
          "(8, 1, 0)",
          "(9, 1, 0)",
          "(10, 1, 0)",
          "(11, 1, 0)",
          "(1̅0, 2, 0)",
          "(9̅, 2, 0)",
          "(8̅, 2, 0)",
          "(7̅, 2, 0)",
          "(6̅, 2, 0)",
          "(5̅, 2, 0)",
          "(4̅, 2, 0)",
          "(3̅, 2, 0)",
          "(2̅, 2, 0)",
          "(1̅, 2, 0)",
          "(0, 2, 0)",
          "(1, 2, 0)",
          "(2, 2, 0)",
          "(3, 2, 0)",
          "(4, 2, 0)",
          "(5, 2, 0)",
          "(6, 2, 0)",
          "(7, 2, 0)",
          "(8, 2, 0)",
          "(9, 2, 0)",
          "(10, 2, 0)",
          "(11, 2, 0)",
          "(1̅0, 3, 0)",
          "(9̅, 3, 0)",
          "(8̅, 3, 0)",
          "(7̅, 3, 0)",
          "(6̅, 3, 0)",
          "(5̅, 3, 0)",
          "(4̅, 3, 0)",
          "(3̅, 3, 0)",
          "(2̅, 3, 0)",
          "(1̅, 3, 0)",
          "(0, 3, 0)",
          "(1, 3, 0)",
          "(2, 3, 0)",
          "(3, 3, 0)",
          "(4, 3, 0)",
          "(5, 3, 0)",
          "(6, 3, 0)",
          "(7, 3, 0)",
          "(8, 3, 0)",
          "(9, 3, 0)",
          "(10, 3, 0)",
          "(11, 3, 0)",
          "(1̅0, 4, 0)",
          "(9̅, 4, 0)",
          "(8̅, 4, 0)",
          "(7̅, 4, 0)",
          "(6̅, 4, 0)",
          "(5̅, 4, 0)",
          "(4̅, 4, 0)",
          "(3̅, 4, 0)",
          "(2̅, 4, 0)",
          "(1̅, 4, 0)",
          "(0, 4, 0)",
          "(1, 4, 0)",
          "(2, 4, 0)",
          "(3, 4, 0)",
          "(4, 4, 0)",
          "(5, 4, 0)",
          "(6, 4, 0)",
          "(7, 4, 0)",
          "(8, 4, 0)",
          "(9, 4, 0)",
          "(10, 4, 0)",
          "(11, 4, 0)",
          "(1̅0, 5, 0)",
          "(9̅, 5, 0)",
          "(8̅, 5, 0)",
          "(7̅, 5, 0)",
          "(6̅, 5, 0)",
          "(5̅, 5, 0)",
          "(4̅, 5, 0)",
          "(3̅, 5, 0)",
          "(2̅, 5, 0)",
          "(1̅, 5, 0)",
          "(0, 5, 0)",
          "(1, 5, 0)",
          "(2, 5, 0)",
          "(3, 5, 0)",
          "(4, 5, 0)",
          "(5, 5, 0)",
          "(6, 5, 0)",
          "(7, 5, 0)",
          "(8, 5, 0)",
          "(9, 5, 0)",
          "(10, 5, 0)",
          "(11, 5, 0)",
          "(1̅0, 6, 0)",
          "(9̅, 6, 0)",
          "(8̅, 6, 0)",
          "(7̅, 6, 0)",
          "(6̅, 6, 0)",
          "(5̅, 6, 0)",
          "(4̅, 6, 0)",
          "(3̅, 6, 0)",
          "(2̅, 6, 0)",
          "(1̅, 6, 0)",
          "(0, 6, 0)",
          "(1, 6, 0)",
          "(2, 6, 0)",
          "(3, 6, 0)",
          "(4, 6, 0)",
          "(5, 6, 0)",
          "(6, 6, 0)",
          "(7, 6, 0)",
          "(8, 6, 0)",
          "(9, 6, 0)",
          "(10, 6, 0)",
          "(11, 6, 0)",
          "(1̅0, 7, 0)",
          "(9̅, 7, 0)",
          "(8̅, 7, 0)",
          "(7̅, 7, 0)",
          "(6̅, 7, 0)",
          "(5̅, 7, 0)",
          "(4̅, 7, 0)",
          "(3̅, 7, 0)",
          "(2̅, 7, 0)",
          "(1̅, 7, 0)",
          "(0, 7, 0)",
          "(1, 7, 0)",
          "(2, 7, 0)",
          "(3, 7, 0)",
          "(4, 7, 0)",
          "(5, 7, 0)",
          "(6, 7, 0)",
          "(7, 7, 0)",
          "(8, 7, 0)",
          "(9, 7, 0)",
          "(10, 7, 0)",
          "(11, 7, 0)",
          "(1̅0, 8, 0)",
          "(9̅, 8, 0)",
          "(8̅, 8, 0)",
          "(7̅, 8, 0)",
          "(6̅, 8, 0)",
          "(5̅, 8, 0)",
          "(4̅, 8, 0)",
          "(3̅, 8, 0)",
          "(2̅, 8, 0)",
          "(1̅, 8, 0)",
          "(0, 8, 0)",
          "(1, 8, 0)",
          "(2, 8, 0)",
          "(3, 8, 0)",
          "(4, 8, 0)",
          "(5, 8, 0)",
          "(6, 8, 0)",
          "(7, 8, 0)",
          "(8, 8, 0)",
          "(9, 8, 0)",
          "(10, 8, 0)",
          "(11, 8, 0)",
          "(1̅0, 9, 0)",
          "(9̅, 9, 0)",
          "(8̅, 9, 0)",
          "(7̅, 9, 0)",
          "(6̅, 9, 0)",
          "(5̅, 9, 0)",
          "(4̅, 9, 0)",
          "(3̅, 9, 0)",
          "(2̅, 9, 0)",
          "(1̅, 9, 0)",
          "(0, 9, 0)",
          "(1, 9, 0)",
          "(2, 9, 0)",
          "(3, 9, 0)",
          "(4, 9, 0)",
          "(5, 9, 0)",
          "(6, 9, 0)",
          "(7, 9, 0)",
          "(8, 9, 0)",
          "(9, 9, 0)",
          "(10, 9, 0)",
          "(11, 9, 0)",
          "(1̅0, 10, 0)",
          "(9̅, 10, 0)",
          "(8̅, 10, 0)",
          "(7̅, 10, 0)",
          "(6̅, 10, 0)",
          "(5̅, 10, 0)",
          "(4̅, 10, 0)",
          "(3̅, 10, 0)",
          "(2̅, 10, 0)",
          "(1̅, 10, 0)",
          "(0, 10, 0)",
          "(1, 10, 0)",
          "(2, 10, 0)",
          "(3, 10, 0)",
          "(4, 10, 0)",
          "(5, 10, 0)",
          "(6, 10, 0)",
          "(7, 10, 0)",
          "(8, 10, 0)",
          "(9, 10, 0)",
          "(10, 10, 0)",
          "(11, 10, 0)",
          "(1̅0, 11, 0)",
          "(9̅, 11, 0)",
          "(8̅, 11, 0)",
          "(7̅, 11, 0)",
          "(6̅, 11, 0)",
          "(5̅, 11, 0)",
          "(4̅, 11, 0)",
          "(3̅, 11, 0)",
          "(2̅, 11, 0)",
          "(1̅, 11, 0)",
          "(0, 11, 0)",
          "(1, 11, 0)",
          "(2, 11, 0)",
          "(3, 11, 0)",
          "(4, 11, 0)",
          "(5, 11, 0)",
          "(6, 11, 0)",
          "(7, 11, 0)",
          "(8, 11, 0)",
          "(9, 11, 0)",
          "(10, 11, 0)",
          "(11, 11, 0)"
         ],
         "type": "scatter",
         "x": [
          27.756352639403506,
          26.831140884756714,
          25.90592913010993,
          24.980717375463147,
          24.055505620816362,
          23.13029386616958,
          22.205082111522795,
          21.27987035687601,
          20.35465860222923,
          19.429446847582444,
          18.50423509293566,
          17.579023338288877,
          16.653811583642092,
          15.728599828995309,
          14.803388074348524,
          13.878176319701742,
          12.952964565054955,
          12.027752810408174,
          11.102541055761389,
          10.17732930111461,
          9.252117546467826,
          8.326905791821037,
          25.90592913010993,
          24.980717375463147,
          24.055505620816362,
          23.13029386616958,
          22.205082111522795,
          21.279870356876014,
          20.35465860222923,
          19.429446847582447,
          18.504235092935662,
          17.579023338288877,
          16.653811583642096,
          15.72859982899531,
          14.803388074348526,
          13.878176319701742,
          12.952964565054959,
          12.027752810408176,
          11.102541055761389,
          10.177329301114607,
          9.252117546467822,
          8.32690579182104,
          7.401694037174263,
          6.476482282527474,
          24.055505620816366,
          23.13029386616958,
          22.2050821115228,
          21.279870356876014,
          20.354658602229232,
          19.429446847582447,
          18.504235092935662,
          17.579023338288877,
          16.653811583642096,
          15.728599828995312,
          14.803388074348527,
          13.878176319701744,
          12.95296456505496,
          12.027752810408176,
          11.102541055761392,
          10.177329301114609,
          9.252117546467826,
          8.32690579182104,
          7.401694037174259,
          6.476482282527474,
          5.551270527880693,
          4.626058773233911,
          22.2050821115228,
          21.279870356876017,
          20.354658602229232,
          19.42944684758245,
          18.504235092935666,
          17.57902333828888,
          16.653811583642096,
          15.728599828995312,
          14.803388074348529,
          13.878176319701746,
          12.952964565054963,
          12.027752810408177,
          11.102541055761396,
          10.177329301114609,
          9.252117546467826,
          8.326905791821043,
          7.401694037174259,
          6.476482282527478,
          5.551270527880693,
          4.626058773233911,
          3.700847018587126,
          2.775635263940341,
          20.354658602229232,
          19.42944684758245,
          18.504235092935666,
          17.579023338288884,
          16.6538115836421,
          15.728599828995314,
          14.80338807434853,
          13.878176319701748,
          12.952964565054963,
          12.02775281040818,
          11.102541055761396,
          10.177329301114613,
          9.25211754646783,
          8.326905791821044,
          7.401694037174261,
          6.476482282527476,
          5.551270527880693,
          4.626058773233911,
          3.700847018587126,
          2.7756352639403445,
          1.8504235092935595,
          0.9252117546467744,
          18.504235092935666,
          17.579023338288884,
          16.6538115836421,
          15.728599828995318,
          14.803388074348533,
          13.878176319701748,
          12.952964565054964,
          12.027752810408181,
          11.102541055761398,
          10.177329301114614,
          9.25211754646783,
          8.326905791821046,
          7.401694037174262,
          6.476482282527478,
          5.551270527880694,
          4.626058773233913,
          3.700847018587126,
          2.7756352639403445,
          1.8504235092935595,
          0.925211754646778,
          -7.105427357601002e-15,
          -0.9252117546467886,
          16.6538115836421,
          15.728599828995318,
          14.803388074348533,
          13.878176319701751,
          12.952964565054966,
          12.027752810408183,
          11.1025410557614,
          10.177329301114616,
          9.252117546467831,
          8.326905791821048,
          7.401694037174264,
          6.47648228252748,
          5.551270527880696,
          4.626058773233913,
          3.7008470185871296,
          2.7756352639403463,
          1.8504235092935595,
          0.925211754646778,
          -7.105427357601002e-15,
          -0.9252117546467886,
          -1.8504235092935737,
          -2.775635263940355,
          14.803388074348533,
          13.878176319701751,
          12.952964565054966,
          12.027752810408185,
          11.1025410557614,
          10.177329301114616,
          9.252117546467833,
          8.32690579182105,
          7.401694037174265,
          6.476482282527481,
          5.551270527880698,
          4.626058773233915,
          3.7008470185871305,
          2.7756352639403463,
          1.850423509293563,
          0.9252117546467797,
          -7.105427357601002e-15,
          -0.9252117546467886,
          -1.8504235092935737,
          -2.775635263940355,
          -3.7008470185871403,
          -4.626058773233922,
          12.95296456505497,
          12.027752810408188,
          11.102541055761403,
          10.177329301114622,
          9.252117546467836,
          8.32690579182105,
          7.401694037174266,
          6.476482282527483,
          5.5512705278807,
          4.626058773233916,
          3.700847018587132,
          2.775635263940348,
          1.8504235092935648,
          0.9252117546467797,
          -3.552713678800501e-15,
          -0.9252117546467868,
          -1.8504235092935701,
          -2.775635263940355,
          -3.7008470185871367,
          -4.626058773233922,
          -5.551270527880703,
          -6.476482282527488,
          11.102541055761403,
          10.177329301114622,
          9.252117546467836,
          8.326905791821055,
          7.40169403717427,
          6.476482282527485,
          5.5512705278807015,
          4.626058773233918,
          3.700847018587133,
          2.77563526394035,
          1.8504235092935666,
          0.9252117546467824,
          -1.7763568394002505e-15,
          -0.9252117546467851,
          -1.8504235092935684,
          -2.7756352639403516,
          -3.7008470185871367,
          -4.626058773233922,
          -5.551270527880703,
          -6.476482282527488,
          -7.40169403717427,
          -8.326905791821055,
          9.252117546467836,
          8.326905791821055,
          7.40169403717427,
          6.476482282527488,
          5.551270527880703,
          4.626058773233918,
          3.700847018587135,
          2.7756352639403516,
          1.8504235092935675,
          0.9252117546467837,
          -0.9252117546467837,
          -1.8504235092935675,
          -2.7756352639403516,
          -3.700847018587135,
          -4.626058773233918,
          -5.551270527880703,
          -6.476482282527488,
          -7.40169403717427,
          -8.326905791821055,
          -9.252117546467836,
          -10.177329301114622,
          7.40169403717427,
          6.476482282527488,
          5.551270527880703,
          4.626058773233922,
          3.7008470185871367,
          2.7756352639403516,
          1.8504235092935684,
          0.9252117546467851,
          1.7763568394002505e-15,
          -0.9252117546467824,
          -1.850423509293566,
          -2.77563526394035,
          -3.700847018587133,
          -4.626058773233918,
          -5.5512705278807015,
          -6.476482282527485,
          -7.40169403717427,
          -8.326905791821055,
          -9.252117546467836,
          -10.177329301114622,
          -11.102541055761403,
          -12.027752810408188,
          5.551270527880703,
          4.626058773233922,
          3.7008470185871367,
          2.775635263940355,
          1.8504235092935701,
          0.9252117546467868,
          3.552713678800501e-15,
          -0.9252117546467797,
          -1.8504235092935648,
          -2.775635263940348,
          -3.700847018587132,
          -4.626058773233916,
          -5.5512705278807,
          -6.476482282527483,
          -7.401694037174266,
          -8.32690579182105,
          -9.252117546467836,
          -10.177329301114622,
          -11.102541055761403,
          -12.027752810408188,
          -12.95296456505497,
          -13.878176319701755,
          3.7008470185871403,
          2.775635263940355,
          1.8504235092935737,
          0.9252117546467886,
          7.105427357601002e-15,
          -0.9252117546467797,
          -1.850423509293563,
          -2.7756352639403463,
          -3.7008470185871305,
          -4.626058773233915,
          -5.551270527880698,
          -6.476482282527481,
          -7.401694037174265,
          -8.32690579182105,
          -9.252117546467833,
          -10.177329301114616,
          -11.1025410557614,
          -12.027752810408185,
          -12.952964565054966,
          -13.878176319701751,
          -14.803388074348533,
          -15.728599828995321,
          1.8504235092935737,
          0.9252117546467886,
          7.105427357601002e-15,
          -0.925211754646778,
          -1.8504235092935595,
          -2.7756352639403463,
          -3.7008470185871296,
          -4.626058773233913,
          -5.551270527880696,
          -6.47648228252748,
          -7.401694037174264,
          -8.326905791821048,
          -9.252117546467831,
          -10.177329301114616,
          -11.1025410557614,
          -12.027752810408183,
          -12.952964565054966,
          -13.878176319701751,
          -14.803388074348533,
          -15.728599828995318,
          -16.6538115836421,
          -17.579023338288888,
          7.105427357601002e-15,
          -0.925211754646778,
          -1.8504235092935595,
          -2.7756352639403445,
          -3.700847018587126,
          -4.626058773233913,
          -5.551270527880694,
          -6.476482282527478,
          -7.401694037174262,
          -8.326905791821046,
          -9.25211754646783,
          -10.177329301114614,
          -11.102541055761398,
          -12.027752810408181,
          -12.952964565054964,
          -13.878176319701748,
          -14.803388074348533,
          -15.728599828995318,
          -16.6538115836421,
          -17.579023338288884,
          -18.504235092935666,
          -19.429446847582454,
          -1.8504235092935595,
          -2.7756352639403445,
          -3.700847018587126,
          -4.626058773233911,
          -5.551270527880693,
          -6.476482282527476,
          -7.401694037174261,
          -8.326905791821044,
          -9.25211754646783,
          -10.177329301114613,
          -11.102541055761396,
          -12.02775281040818,
          -12.952964565054963,
          -13.878176319701748,
          -14.80338807434853,
          -15.728599828995314,
          -16.6538115836421,
          -17.579023338288884,
          -18.504235092935666,
          -19.42944684758245,
          -20.354658602229232,
          -21.279870356876014,
          -3.700847018587126,
          -4.626058773233911,
          -5.551270527880693,
          -6.476482282527478,
          -7.401694037174259,
          -8.326905791821043,
          -9.252117546467826,
          -10.177329301114609,
          -11.102541055761396,
          -12.027752810408177,
          -12.952964565054963,
          -13.878176319701746,
          -14.803388074348529,
          -15.728599828995312,
          -16.653811583642096,
          -17.57902333828888,
          -18.504235092935666,
          -19.42944684758245,
          -20.354658602229232,
          -21.279870356876017,
          -22.2050821115228,
          -23.13029386616958,
          -5.551270527880693,
          -6.476482282527474,
          -7.401694037174259,
          -8.32690579182104,
          -9.252117546467826,
          -10.177329301114609,
          -11.102541055761392,
          -12.027752810408176,
          -12.95296456505496,
          -13.878176319701744,
          -14.803388074348527,
          -15.728599828995312,
          -16.653811583642096,
          -17.579023338288877,
          -18.504235092935662,
          -19.429446847582447,
          -20.354658602229232,
          -21.279870356876014,
          -22.2050821115228,
          -23.13029386616958,
          -24.055505620816366,
          -24.980717375463147,
          -7.401694037174263,
          -8.32690579182104,
          -9.252117546467822,
          -10.177329301114607,
          -11.102541055761389,
          -12.027752810408176,
          -12.952964565054959,
          -13.878176319701742,
          -14.803388074348526,
          -15.72859982899531,
          -16.653811583642096,
          -17.579023338288877,
          -18.504235092935662,
          -19.429446847582447,
          -20.35465860222923,
          -21.279870356876014,
          -22.205082111522795,
          -23.13029386616958,
          -24.055505620816362,
          -24.980717375463147,
          -25.90592913010993,
          -26.831140884756714,
          -9.252117546467826,
          -10.17732930111461,
          -11.102541055761389,
          -12.027752810408174,
          -12.952964565054955,
          -13.878176319701742,
          -14.803388074348524,
          -15.728599828995309,
          -16.653811583642092,
          -17.579023338288877,
          -18.50423509293566,
          -19.429446847582444,
          -20.35465860222923,
          -21.27987035687601,
          -22.205082111522795,
          -23.13029386616958,
          -24.055505620816362,
          -24.980717375463147,
          -25.90592913010993,
          -26.831140884756714,
          -27.756352639403495,
          -28.68156439405028,
          -11.102541055761382,
          -12.027752810408174,
          -12.952964565054959,
          -13.87817631970174,
          -14.803388074348522,
          -15.728599828995307,
          -16.65381158364209,
          -17.579023338288877,
          -18.50423509293566,
          -19.42944684758244,
          -20.354658602229225,
          -21.27987035687601,
          -22.205082111522792,
          -23.13029386616958,
          -24.055505620816362,
          -24.980717375463144,
          -25.90592913010993,
          -26.831140884756714,
          -27.756352639403495,
          -28.68156439405028,
          -29.60677614869706,
          -30.531987903343847
         ],
         "y": [
          16.02513766808178,
          14.422623901273596,
          12.820110134465418,
          11.217596367657242,
          9.615082600849064,
          8.012568834040884,
          6.410055067232707,
          4.80754130042453,
          3.2050275336163523,
          1.6025137668081744,
          -3.3359019022298026e-15,
          -1.602513766808181,
          -3.2050275336163585,
          -4.807541300424537,
          -6.410055067232714,
          -8.012568834040891,
          -9.615082600849071,
          -11.217596367657249,
          -12.820110134465425,
          -14.422623901273603,
          -16.02513766808178,
          -17.62765143488996,
          16.025137668081772,
          14.422623901273596,
          12.820110134465418,
          11.217596367657242,
          9.615082600849064,
          8.012568834040886,
          6.410055067232708,
          4.807541300424531,
          3.2050275336163523,
          1.6025137668081748,
          -3.0023117120068225e-15,
          -1.6025137668081806,
          -3.2050275336163585,
          -4.807541300424536,
          -6.4100550672327135,
          -8.012568834040891,
          -9.615082600849071,
          -11.217596367657249,
          -12.820110134465425,
          -14.422623901273603,
          -16.02513766808178,
          -17.62765143488996,
          16.025137668081776,
          14.422623901273596,
          12.82011013446542,
          11.217596367657242,
          9.615082600849066,
          8.012568834040886,
          6.410055067232708,
          4.807541300424531,
          3.2050275336163527,
          1.602513766808175,
          -2.668721521783842e-15,
          -1.6025137668081804,
          -3.205027533616358,
          -4.807541300424536,
          -6.4100550672327135,
          -8.012568834040891,
          -9.61508260084907,
          -11.217596367657249,
          -12.820110134465423,
          -14.422623901273603,
          -16.02513766808178,
          -17.62765143488996,
          16.025137668081776,
          14.422623901273598,
          12.82011013446542,
          11.217596367657244,
          9.615082600849066,
          8.012568834040886,
          6.410055067232708,
          4.807541300424531,
          3.205027533616353,
          1.6025137668081753,
          -2.3351313315608618e-15,
          -1.6025137668081801,
          -3.2050275336163576,
          -4.807541300424536,
          -6.4100550672327135,
          -8.012568834040891,
          -9.61508260084907,
          -11.217596367657247,
          -12.820110134465423,
          -14.422623901273601,
          -16.02513766808178,
          -17.62765143488996,
          16.025137668081776,
          14.422623901273598,
          12.82011013446542,
          11.217596367657244,
          9.615082600849066,
          8.012568834040886,
          6.410055067232709,
          4.807541300424532,
          3.205027533616353,
          1.6025137668081757,
          -2.0015411413378816e-15,
          -1.6025137668081797,
          -3.2050275336163576,
          -4.8075413004245355,
          -6.410055067232713,
          -8.012568834040891,
          -9.61508260084907,
          -11.217596367657247,
          -12.820110134465423,
          -14.422623901273601,
          -16.02513766808178,
          -17.62765143488996,
          16.025137668081776,
          14.422623901273598,
          12.82011013446542,
          11.217596367657244,
          9.615082600849066,
          8.012568834040886,
          6.410055067232709,
          4.807541300424532,
          3.2050275336163536,
          1.6025137668081761,
          -1.6679509511149013e-15,
          -1.6025137668081793,
          -3.205027533616357,
          -4.8075413004245355,
          -6.410055067232713,
          -8.01256883404089,
          -9.61508260084907,
          -11.217596367657247,
          -12.820110134465423,
          -14.422623901273601,
          -16.02513766808178,
          -17.627651434889955,
          16.025137668081776,
          14.422623901273598,
          12.82011013446542,
          11.217596367657244,
          9.615082600849066,
          8.012568834040888,
          6.41005506723271,
          4.807541300424533,
          3.205027533616354,
          1.6025137668081764,
          -1.334360760891921e-15,
          -1.602513766808179,
          -3.2050275336163567,
          -4.807541300424535,
          -6.410055067232712,
          -8.01256883404089,
          -9.61508260084907,
          -11.217596367657247,
          -12.820110134465423,
          -14.422623901273601,
          -16.02513766808178,
          -17.627651434889955,
          16.025137668081776,
          14.422623901273598,
          12.82011013446542,
          11.217596367657244,
          9.615082600849066,
          8.012568834040888,
          6.41005506723271,
          4.807541300424533,
          3.2050275336163545,
          1.6025137668081766,
          -1.0007705706689408e-15,
          -1.6025137668081788,
          -3.2050275336163563,
          -4.807541300424535,
          -6.410055067232712,
          -8.01256883404089,
          -9.61508260084907,
          -11.217596367657247,
          -12.820110134465423,
          -14.422623901273601,
          -16.02513766808178,
          -17.627651434889955,
          16.025137668081776,
          14.4226239012736,
          12.820110134465422,
          11.217596367657245,
          9.615082600849068,
          8.012568834040888,
          6.41005506723271,
          4.807541300424533,
          3.205027533616355,
          1.602513766808177,
          -6.671803804459605e-16,
          -1.6025137668081784,
          -3.205027533616356,
          -4.807541300424535,
          -6.410055067232712,
          -8.01256883404089,
          -9.615082600849068,
          -11.217596367657245,
          -12.820110134465422,
          -14.4226239012736,
          -16.025137668081776,
          -17.627651434889955,
          16.025137668081776,
          14.4226239012736,
          12.820110134465422,
          11.217596367657245,
          9.615082600849068,
          8.012568834040888,
          6.410055067232711,
          4.807541300424534,
          3.205027533616355,
          1.6025137668081775,
          0,
          -1.602513766808178,
          -3.205027533616356,
          -4.807541300424534,
          -6.410055067232711,
          -8.012568834040888,
          -9.615082600849068,
          -11.217596367657245,
          -12.820110134465422,
          -14.4226239012736,
          -16.025137668081776,
          -17.627651434889955,
          16.025137668081776,
          14.4226239012736,
          12.820110134465422,
          11.217596367657245,
          9.615082600849068,
          8.012568834040888,
          6.410055067232711,
          4.807541300424534,
          3.2050275336163554,
          1.6025137668081777,
          -1.6025137668081777,
          -3.2050275336163554,
          -4.807541300424534,
          -6.410055067232711,
          -8.012568834040888,
          -9.615082600849068,
          -11.217596367657245,
          -12.820110134465422,
          -14.4226239012736,
          -16.025137668081776,
          -17.627651434889955,
          16.025137668081776,
          14.4226239012736,
          12.820110134465422,
          11.217596367657245,
          9.615082600849068,
          8.012568834040888,
          6.410055067232711,
          4.807541300424534,
          3.205027533616356,
          1.602513766808178,
          3.3359019022298024e-16,
          -1.6025137668081775,
          -3.205027533616355,
          -4.807541300424534,
          -6.410055067232711,
          -8.012568834040888,
          -9.615082600849068,
          -11.217596367657245,
          -12.820110134465422,
          -14.4226239012736,
          -16.025137668081776,
          -17.627651434889955,
          16.025137668081776,
          14.4226239012736,
          12.820110134465422,
          11.217596367657245,
          9.615082600849068,
          8.01256883404089,
          6.410055067232712,
          4.807541300424535,
          3.205027533616356,
          1.6025137668081784,
          6.671803804459605e-16,
          -1.602513766808177,
          -3.205027533616355,
          -4.807541300424533,
          -6.41005506723271,
          -8.012568834040888,
          -9.615082600849068,
          -11.217596367657245,
          -12.820110134465422,
          -14.4226239012736,
          -16.025137668081776,
          -17.627651434889955,
          16.02513766808178,
          14.422623901273601,
          12.820110134465423,
          11.217596367657247,
          9.61508260084907,
          8.01256883404089,
          6.410055067232712,
          4.807541300424535,
          3.2050275336163563,
          1.6025137668081788,
          1.0007705706689408e-15,
          -1.6025137668081766,
          -3.2050275336163545,
          -4.807541300424533,
          -6.41005506723271,
          -8.012568834040888,
          -9.615082600849066,
          -11.217596367657244,
          -12.82011013446542,
          -14.422623901273598,
          -16.025137668081776,
          -17.627651434889955,
          16.02513766808178,
          14.422623901273601,
          12.820110134465423,
          11.217596367657247,
          9.61508260084907,
          8.01256883404089,
          6.410055067232712,
          4.807541300424535,
          3.2050275336163567,
          1.602513766808179,
          1.334360760891921e-15,
          -1.6025137668081764,
          -3.205027533616354,
          -4.807541300424533,
          -6.41005506723271,
          -8.012568834040888,
          -9.615082600849066,
          -11.217596367657244,
          -12.82011013446542,
          -14.422623901273598,
          -16.025137668081776,
          -17.627651434889955,
          16.02513766808178,
          14.422623901273601,
          12.820110134465423,
          11.217596367657247,
          9.61508260084907,
          8.01256883404089,
          6.410055067232713,
          4.8075413004245355,
          3.205027533616357,
          1.6025137668081793,
          1.6679509511149013e-15,
          -1.6025137668081761,
          -3.2050275336163536,
          -4.807541300424532,
          -6.410055067232709,
          -8.012568834040886,
          -9.615082600849066,
          -11.217596367657244,
          -12.82011013446542,
          -14.422623901273598,
          -16.025137668081776,
          -17.627651434889955,
          16.02513766808178,
          14.422623901273601,
          12.820110134465423,
          11.217596367657247,
          9.61508260084907,
          8.012568834040891,
          6.410055067232713,
          4.8075413004245355,
          3.2050275336163576,
          1.6025137668081797,
          2.0015411413378816e-15,
          -1.6025137668081757,
          -3.205027533616353,
          -4.807541300424532,
          -6.410055067232709,
          -8.012568834040886,
          -9.615082600849066,
          -11.217596367657244,
          -12.82011013446542,
          -14.422623901273598,
          -16.025137668081776,
          -17.627651434889952,
          16.02513766808178,
          14.422623901273601,
          12.820110134465423,
          11.217596367657247,
          9.61508260084907,
          8.012568834040891,
          6.4100550672327135,
          4.807541300424536,
          3.2050275336163576,
          1.6025137668081801,
          2.3351313315608618e-15,
          -1.6025137668081753,
          -3.205027533616353,
          -4.807541300424531,
          -6.410055067232708,
          -8.012568834040886,
          -9.615082600849066,
          -11.217596367657244,
          -12.82011013446542,
          -14.422623901273598,
          -16.025137668081776,
          -17.627651434889952,
          16.02513766808178,
          14.422623901273603,
          12.820110134465423,
          11.217596367657249,
          9.61508260084907,
          8.012568834040891,
          6.4100550672327135,
          4.807541300424536,
          3.205027533616358,
          1.6025137668081804,
          2.668721521783842e-15,
          -1.602513766808175,
          -3.2050275336163527,
          -4.807541300424531,
          -6.410055067232708,
          -8.012568834040886,
          -9.615082600849066,
          -11.217596367657242,
          -12.82011013446542,
          -14.422623901273596,
          -16.025137668081776,
          -17.627651434889952,
          16.02513766808178,
          14.422623901273603,
          12.820110134465425,
          11.217596367657249,
          9.615082600849071,
          8.012568834040891,
          6.4100550672327135,
          4.807541300424536,
          3.2050275336163585,
          1.6025137668081806,
          3.0023117120068225e-15,
          -1.6025137668081748,
          -3.2050275336163523,
          -4.807541300424531,
          -6.410055067232708,
          -8.012568834040886,
          -9.615082600849064,
          -11.217596367657242,
          -12.820110134465418,
          -14.422623901273596,
          -16.025137668081772,
          -17.627651434889952,
          16.02513766808178,
          14.422623901273603,
          12.820110134465425,
          11.217596367657249,
          9.615082600849071,
          8.012568834040891,
          6.410055067232714,
          4.807541300424537,
          3.2050275336163585,
          1.602513766808181,
          3.3359019022298026e-15,
          -1.6025137668081744,
          -3.2050275336163523,
          -4.80754130042453,
          -6.410055067232707,
          -8.012568834040884,
          -9.615082600849064,
          -11.217596367657242,
          -12.820110134465418,
          -14.422623901273596,
          -16.025137668081772,
          -17.627651434889952,
          16.025137668081783,
          14.422623901273603,
          12.820110134465425,
          11.217596367657249,
          9.615082600849071,
          8.012568834040893,
          6.410055067232714,
          4.807541300424537,
          3.205027533616359,
          1.6025137668081815,
          3.669492092452783e-15,
          -1.602513766808174,
          -3.205027533616352,
          -4.80754130042453,
          -6.410055067232707,
          -8.012568834040884,
          -9.615082600849064,
          -11.217596367657242,
          -12.820110134465418,
          -14.422623901273596,
          -16.025137668081772,
          -17.627651434889952
         ]
        },
        {
         "hoverinfo": "text",
         "marker": {
          "cmax": 1,
          "cmin": 0,
          "color": "white",
          "size": 14
         },
         "mode": "markers",
         "showlegend": false,
         "text": "(0, 0, 0): Direct beam",
         "type": "scatter",
         "x": [
          0
         ],
         "y": [
          0
         ]
        }
       ],
       "layout": {
        "annotations": [
         {
          "font": {
           "color": "red",
           "size": 10
          },
          "showarrow": false,
          "text": "(0,-3,0)",
          "x": 5.551270527880698,
          "y": -0.250000000000001
         },
         {
          "font": {
           "color": "red",
           "size": 10
          },
          "showarrow": false,
          "text": "(3,-3,0)",
          "x": 2.7756352639403463,
          "y": -5.057541300424535
         },
         {
          "font": {
           "color": "red",
           "size": 10
          },
          "showarrow": false,
          "text": "(0,-2,0)",
          "x": 3.700847018587132,
          "y": -0.25000000000000067
         },
         {
          "font": {
           "color": "red",
           "size": 10
          },
          "showarrow": false,
          "text": "(1,-2,0)",
          "x": 2.775635263940348,
          "y": -1.8525137668081784
         },
         {
          "font": {
           "color": "red",
           "size": 10
          },
          "showarrow": false,
          "text": "(2,-2,0)",
          "x": 1.8504235092935648,
          "y": -3.455027533616356
         },
         {
          "font": {
           "color": "red",
           "size": 10
          },
          "showarrow": false,
          "text": "(-1,-1,0)",
          "x": 2.77563526394035,
          "y": 1.3525137668081775
         },
         {
          "font": {
           "color": "red",
           "size": 10
          },
          "showarrow": false,
          "text": "(0,-1,0)",
          "x": 1.8504235092935666,
          "y": -0.25
         },
         {
          "font": {
           "color": "red",
           "size": 10
          },
          "showarrow": false,
          "text": "(1,-1,0)",
          "x": 0.9252117546467824,
          "y": -1.852513766808178
         },
         {
          "font": {
           "color": "red",
           "size": 10
          },
          "showarrow": false,
          "text": "(2,-1,0)",
          "x": -1.7763568394002505e-15,
          "y": -3.455027533616356
         },
         {
          "font": {
           "color": "red",
           "size": 10
          },
          "showarrow": false,
          "text": "(-3,0,0)",
          "x": 2.7756352639403516,
          "y": 4.557541300424534
         },
         {
          "font": {
           "color": "red",
           "size": 10
          },
          "showarrow": false,
          "text": "(-2,0,0)",
          "x": 1.8504235092935675,
          "y": 2.9550275336163554
         },
         {
          "font": {
           "color": "red",
           "size": 10
          },
          "showarrow": false,
          "text": "(-1,0,0)",
          "x": 0.9252117546467837,
          "y": 1.3525137668081777
         },
         {
          "font": {
           "color": "red",
           "size": 10
          },
          "showarrow": false,
          "text": "(1,0,0)",
          "x": -0.9252117546467837,
          "y": -1.8525137668081777
         },
         {
          "font": {
           "color": "red",
           "size": 10
          },
          "showarrow": false,
          "text": "(2,0,0)",
          "x": -1.8504235092935675,
          "y": -3.4550275336163554
         },
         {
          "font": {
           "color": "red",
           "size": 10
          },
          "showarrow": false,
          "text": "(3,0,0)",
          "x": -2.7756352639403516,
          "y": -5.057541300424534
         },
         {
          "font": {
           "color": "red",
           "size": 10
          },
          "showarrow": false,
          "text": "(-2,1,0)",
          "x": 1.7763568394002505e-15,
          "y": 2.955027533616356
         },
         {
          "font": {
           "color": "red",
           "size": 10
          },
          "showarrow": false,
          "text": "(-1,1,0)",
          "x": -0.9252117546467824,
          "y": 1.352513766808178
         },
         {
          "font": {
           "color": "red",
           "size": 10
          },
          "showarrow": false,
          "text": "(0,1,0)",
          "x": -1.850423509293566,
          "y": -0.24999999999999967
         },
         {
          "font": {
           "color": "red",
           "size": 10
          },
          "showarrow": false,
          "text": "(1,1,0)",
          "x": -2.77563526394035,
          "y": -1.8525137668081775
         },
         {
          "font": {
           "color": "red",
           "size": 10
          },
          "showarrow": false,
          "text": "(-2,2,0)",
          "x": -1.8504235092935648,
          "y": 2.955027533616356
         },
         {
          "font": {
           "color": "red",
           "size": 10
          },
          "showarrow": false,
          "text": "(-1,2,0)",
          "x": -2.775635263940348,
          "y": 1.3525137668081784
         },
         {
          "font": {
           "color": "red",
           "size": 10
          },
          "showarrow": false,
          "text": "(0,2,0)",
          "x": -3.700847018587132,
          "y": -0.24999999999999933
         },
         {
          "font": {
           "color": "red",
           "size": 10
          },
          "showarrow": false,
          "text": "(-3,3,0)",
          "x": -2.7756352639403463,
          "y": 4.557541300424535
         },
         {
          "font": {
           "color": "red",
           "size": 10
          },
          "showarrow": false,
          "text": "(0,3,0)",
          "x": -5.551270527880698,
          "y": -0.249999999999999
         }
        ],
        "font": {
         "color": "#7f7f7f",
         "size": 14
        },
        "height": 550,
        "hovermode": "closest",
        "paper_bgcolor": "rgba(100,110,110,0.5)",
        "plot_bgcolor": "black",
        "showlegend": false,
        "template": {
         "data": {
          "bar": [
           {
            "error_x": {
             "color": "#2a3f5f"
            },
            "error_y": {
             "color": "#2a3f5f"
            },
            "marker": {
             "line": {
              "color": "#E5ECF6",
              "width": 0.5
             },
             "pattern": {
              "fillmode": "overlay",
              "size": 10,
              "solidity": 0.2
             }
            },
            "type": "bar"
           }
          ],
          "barpolar": [
           {
            "marker": {
             "line": {
              "color": "#E5ECF6",
              "width": 0.5
             },
             "pattern": {
              "fillmode": "overlay",
              "size": 10,
              "solidity": 0.2
             }
            },
            "type": "barpolar"
           }
          ],
          "carpet": [
           {
            "aaxis": {
             "endlinecolor": "#2a3f5f",
             "gridcolor": "white",
             "linecolor": "white",
             "minorgridcolor": "white",
             "startlinecolor": "#2a3f5f"
            },
            "baxis": {
             "endlinecolor": "#2a3f5f",
             "gridcolor": "white",
             "linecolor": "white",
             "minorgridcolor": "white",
             "startlinecolor": "#2a3f5f"
            },
            "type": "carpet"
           }
          ],
          "choropleth": [
           {
            "colorbar": {
             "outlinewidth": 0,
             "ticks": ""
            },
            "type": "choropleth"
           }
          ],
          "contour": [
           {
            "colorbar": {
             "outlinewidth": 0,
             "ticks": ""
            },
            "colorscale": [
             [
              0,
              "#0d0887"
             ],
             [
              0.1111111111111111,
              "#46039f"
             ],
             [
              0.2222222222222222,
              "#7201a8"
             ],
             [
              0.3333333333333333,
              "#9c179e"
             ],
             [
              0.4444444444444444,
              "#bd3786"
             ],
             [
              0.5555555555555556,
              "#d8576b"
             ],
             [
              0.6666666666666666,
              "#ed7953"
             ],
             [
              0.7777777777777778,
              "#fb9f3a"
             ],
             [
              0.8888888888888888,
              "#fdca26"
             ],
             [
              1,
              "#f0f921"
             ]
            ],
            "type": "contour"
           }
          ],
          "contourcarpet": [
           {
            "colorbar": {
             "outlinewidth": 0,
             "ticks": ""
            },
            "type": "contourcarpet"
           }
          ],
          "heatmap": [
           {
            "colorbar": {
             "outlinewidth": 0,
             "ticks": ""
            },
            "colorscale": [
             [
              0,
              "#0d0887"
             ],
             [
              0.1111111111111111,
              "#46039f"
             ],
             [
              0.2222222222222222,
              "#7201a8"
             ],
             [
              0.3333333333333333,
              "#9c179e"
             ],
             [
              0.4444444444444444,
              "#bd3786"
             ],
             [
              0.5555555555555556,
              "#d8576b"
             ],
             [
              0.6666666666666666,
              "#ed7953"
             ],
             [
              0.7777777777777778,
              "#fb9f3a"
             ],
             [
              0.8888888888888888,
              "#fdca26"
             ],
             [
              1,
              "#f0f921"
             ]
            ],
            "type": "heatmap"
           }
          ],
          "heatmapgl": [
           {
            "colorbar": {
             "outlinewidth": 0,
             "ticks": ""
            },
            "colorscale": [
             [
              0,
              "#0d0887"
             ],
             [
              0.1111111111111111,
              "#46039f"
             ],
             [
              0.2222222222222222,
              "#7201a8"
             ],
             [
              0.3333333333333333,
              "#9c179e"
             ],
             [
              0.4444444444444444,
              "#bd3786"
             ],
             [
              0.5555555555555556,
              "#d8576b"
             ],
             [
              0.6666666666666666,
              "#ed7953"
             ],
             [
              0.7777777777777778,
              "#fb9f3a"
             ],
             [
              0.8888888888888888,
              "#fdca26"
             ],
             [
              1,
              "#f0f921"
             ]
            ],
            "type": "heatmapgl"
           }
          ],
          "histogram": [
           {
            "marker": {
             "pattern": {
              "fillmode": "overlay",
              "size": 10,
              "solidity": 0.2
             }
            },
            "type": "histogram"
           }
          ],
          "histogram2d": [
           {
            "colorbar": {
             "outlinewidth": 0,
             "ticks": ""
            },
            "colorscale": [
             [
              0,
              "#0d0887"
             ],
             [
              0.1111111111111111,
              "#46039f"
             ],
             [
              0.2222222222222222,
              "#7201a8"
             ],
             [
              0.3333333333333333,
              "#9c179e"
             ],
             [
              0.4444444444444444,
              "#bd3786"
             ],
             [
              0.5555555555555556,
              "#d8576b"
             ],
             [
              0.6666666666666666,
              "#ed7953"
             ],
             [
              0.7777777777777778,
              "#fb9f3a"
             ],
             [
              0.8888888888888888,
              "#fdca26"
             ],
             [
              1,
              "#f0f921"
             ]
            ],
            "type": "histogram2d"
           }
          ],
          "histogram2dcontour": [
           {
            "colorbar": {
             "outlinewidth": 0,
             "ticks": ""
            },
            "colorscale": [
             [
              0,
              "#0d0887"
             ],
             [
              0.1111111111111111,
              "#46039f"
             ],
             [
              0.2222222222222222,
              "#7201a8"
             ],
             [
              0.3333333333333333,
              "#9c179e"
             ],
             [
              0.4444444444444444,
              "#bd3786"
             ],
             [
              0.5555555555555556,
              "#d8576b"
             ],
             [
              0.6666666666666666,
              "#ed7953"
             ],
             [
              0.7777777777777778,
              "#fb9f3a"
             ],
             [
              0.8888888888888888,
              "#fdca26"
             ],
             [
              1,
              "#f0f921"
             ]
            ],
            "type": "histogram2dcontour"
           }
          ],
          "mesh3d": [
           {
            "colorbar": {
             "outlinewidth": 0,
             "ticks": ""
            },
            "type": "mesh3d"
           }
          ],
          "parcoords": [
           {
            "line": {
             "colorbar": {
              "outlinewidth": 0,
              "ticks": ""
             }
            },
            "type": "parcoords"
           }
          ],
          "pie": [
           {
            "automargin": true,
            "type": "pie"
           }
          ],
          "scatter": [
           {
            "fillpattern": {
             "fillmode": "overlay",
             "size": 10,
             "solidity": 0.2
            },
            "type": "scatter"
           }
          ],
          "scatter3d": [
           {
            "line": {
             "colorbar": {
              "outlinewidth": 0,
              "ticks": ""
             }
            },
            "marker": {
             "colorbar": {
              "outlinewidth": 0,
              "ticks": ""
             }
            },
            "type": "scatter3d"
           }
          ],
          "scattercarpet": [
           {
            "marker": {
             "colorbar": {
              "outlinewidth": 0,
              "ticks": ""
             }
            },
            "type": "scattercarpet"
           }
          ],
          "scattergeo": [
           {
            "marker": {
             "colorbar": {
              "outlinewidth": 0,
              "ticks": ""
             }
            },
            "type": "scattergeo"
           }
          ],
          "scattergl": [
           {
            "marker": {
             "colorbar": {
              "outlinewidth": 0,
              "ticks": ""
             }
            },
            "type": "scattergl"
           }
          ],
          "scattermapbox": [
           {
            "marker": {
             "colorbar": {
              "outlinewidth": 0,
              "ticks": ""
             }
            },
            "type": "scattermapbox"
           }
          ],
          "scatterpolar": [
           {
            "marker": {
             "colorbar": {
              "outlinewidth": 0,
              "ticks": ""
             }
            },
            "type": "scatterpolar"
           }
          ],
          "scatterpolargl": [
           {
            "marker": {
             "colorbar": {
              "outlinewidth": 0,
              "ticks": ""
             }
            },
            "type": "scatterpolargl"
           }
          ],
          "scatterternary": [
           {
            "marker": {
             "colorbar": {
              "outlinewidth": 0,
              "ticks": ""
             }
            },
            "type": "scatterternary"
           }
          ],
          "surface": [
           {
            "colorbar": {
             "outlinewidth": 0,
             "ticks": ""
            },
            "colorscale": [
             [
              0,
              "#0d0887"
             ],
             [
              0.1111111111111111,
              "#46039f"
             ],
             [
              0.2222222222222222,
              "#7201a8"
             ],
             [
              0.3333333333333333,
              "#9c179e"
             ],
             [
              0.4444444444444444,
              "#bd3786"
             ],
             [
              0.5555555555555556,
              "#d8576b"
             ],
             [
              0.6666666666666666,
              "#ed7953"
             ],
             [
              0.7777777777777778,
              "#fb9f3a"
             ],
             [
              0.8888888888888888,
              "#fdca26"
             ],
             [
              1,
              "#f0f921"
             ]
            ],
            "type": "surface"
           }
          ],
          "table": [
           {
            "cells": {
             "fill": {
              "color": "#EBF0F8"
             },
             "line": {
              "color": "white"
             }
            },
            "header": {
             "fill": {
              "color": "#C8D4E3"
             },
             "line": {
              "color": "white"
             }
            },
            "type": "table"
           }
          ]
         },
         "layout": {
          "annotationdefaults": {
           "arrowcolor": "#2a3f5f",
           "arrowhead": 0,
           "arrowwidth": 1
          },
          "autotypenumbers": "strict",
          "coloraxis": {
           "colorbar": {
            "outlinewidth": 0,
            "ticks": ""
           }
          },
          "colorscale": {
           "diverging": [
            [
             0,
             "#8e0152"
            ],
            [
             0.1,
             "#c51b7d"
            ],
            [
             0.2,
             "#de77ae"
            ],
            [
             0.3,
             "#f1b6da"
            ],
            [
             0.4,
             "#fde0ef"
            ],
            [
             0.5,
             "#f7f7f7"
            ],
            [
             0.6,
             "#e6f5d0"
            ],
            [
             0.7,
             "#b8e186"
            ],
            [
             0.8,
             "#7fbc41"
            ],
            [
             0.9,
             "#4d9221"
            ],
            [
             1,
             "#276419"
            ]
           ],
           "sequential": [
            [
             0,
             "#0d0887"
            ],
            [
             0.1111111111111111,
             "#46039f"
            ],
            [
             0.2222222222222222,
             "#7201a8"
            ],
            [
             0.3333333333333333,
             "#9c179e"
            ],
            [
             0.4444444444444444,
             "#bd3786"
            ],
            [
             0.5555555555555556,
             "#d8576b"
            ],
            [
             0.6666666666666666,
             "#ed7953"
            ],
            [
             0.7777777777777778,
             "#fb9f3a"
            ],
            [
             0.8888888888888888,
             "#fdca26"
            ],
            [
             1,
             "#f0f921"
            ]
           ],
           "sequentialminus": [
            [
             0,
             "#0d0887"
            ],
            [
             0.1111111111111111,
             "#46039f"
            ],
            [
             0.2222222222222222,
             "#7201a8"
            ],
            [
             0.3333333333333333,
             "#9c179e"
            ],
            [
             0.4444444444444444,
             "#bd3786"
            ],
            [
             0.5555555555555556,
             "#d8576b"
            ],
            [
             0.6666666666666666,
             "#ed7953"
            ],
            [
             0.7777777777777778,
             "#fb9f3a"
            ],
            [
             0.8888888888888888,
             "#fdca26"
            ],
            [
             1,
             "#f0f921"
            ]
           ]
          },
          "colorway": [
           "#636efa",
           "#EF553B",
           "#00cc96",
           "#ab63fa",
           "#FFA15A",
           "#19d3f3",
           "#FF6692",
           "#B6E880",
           "#FF97FF",
           "#FECB52"
          ],
          "font": {
           "color": "#2a3f5f"
          },
          "geo": {
           "bgcolor": "white",
           "lakecolor": "white",
           "landcolor": "#E5ECF6",
           "showlakes": true,
           "showland": true,
           "subunitcolor": "white"
          },
          "hoverlabel": {
           "align": "left"
          },
          "hovermode": "closest",
          "mapbox": {
           "style": "light"
          },
          "paper_bgcolor": "white",
          "plot_bgcolor": "#E5ECF6",
          "polar": {
           "angularaxis": {
            "gridcolor": "white",
            "linecolor": "white",
            "ticks": ""
           },
           "bgcolor": "#E5ECF6",
           "radialaxis": {
            "gridcolor": "white",
            "linecolor": "white",
            "ticks": ""
           }
          },
          "scene": {
           "xaxis": {
            "backgroundcolor": "#E5ECF6",
            "gridcolor": "white",
            "gridwidth": 2,
            "linecolor": "white",
            "showbackground": true,
            "ticks": "",
            "zerolinecolor": "white"
           },
           "yaxis": {
            "backgroundcolor": "#E5ECF6",
            "gridcolor": "white",
            "gridwidth": 2,
            "linecolor": "white",
            "showbackground": true,
            "ticks": "",
            "zerolinecolor": "white"
           },
           "zaxis": {
            "backgroundcolor": "#E5ECF6",
            "gridcolor": "white",
            "gridwidth": 2,
            "linecolor": "white",
            "showbackground": true,
            "ticks": "",
            "zerolinecolor": "white"
           }
          },
          "shapedefaults": {
           "line": {
            "color": "#2a3f5f"
           }
          },
          "ternary": {
           "aaxis": {
            "gridcolor": "white",
            "linecolor": "white",
            "ticks": ""
           },
           "baxis": {
            "gridcolor": "white",
            "linecolor": "white",
            "ticks": ""
           },
           "bgcolor": "#E5ECF6",
           "caxis": {
            "gridcolor": "white",
            "linecolor": "white",
            "ticks": ""
           }
          },
          "title": {
           "x": 0.05
          },
          "xaxis": {
           "automargin": true,
           "gridcolor": "white",
           "linecolor": "white",
           "ticks": "",
           "title": {
            "standoff": 15
           },
           "zerolinecolor": "white",
           "zerolinewidth": 2
          },
          "yaxis": {
           "automargin": true,
           "gridcolor": "white",
           "linecolor": "white",
           "ticks": "",
           "title": {
            "standoff": 15
           },
           "zerolinecolor": "white",
           "zerolinewidth": 2
          }
         }
        },
        "title": {
         "text": "TEM Diffraction (SAED) Pattern - Boron Nitride (BN)"
        },
        "width": 550,
        "xaxis": {
         "range": [
          -4,
          4
         ],
         "scaleanchor": "y",
         "showgrid": false,
         "showline": false,
         "showticklabels": false,
         "ticks": "",
         "title": {
          "text": "Reciprocal Space X"
         },
         "zeroline": false
        },
        "yaxis": {
         "range": [
          -4,
          4
         ],
         "showgrid": false,
         "showline": false,
         "showticklabels": false,
         "ticks": "",
         "title": {
          "text": "Reciprocal Space Y"
         },
         "zeroline": false
        }
       }
      },
      "text/html": [
       "<div>                            <div id=\"1b74977b-b426-461d-ad09-58e1ec80aedd\" class=\"plotly-graph-div\" style=\"height:550px; width:550px;\"></div>            <script type=\"text/javascript\">                require([\"plotly\"], function(Plotly) {                    window.PLOTLYENV=window.PLOTLYENV || {};                                    if (document.getElementById(\"1b74977b-b426-461d-ad09-58e1ec80aedd\")) {                    Plotly.newPlot(                        \"1b74977b-b426-461d-ad09-58e1ec80aedd\",                        [{\"hoverinfo\":\"text\",\"marker\":{\"cmax\":1,\"cmin\":0,\"color\":[8.206297023965607e-7,5.723956228496533e-7,1.4924312311865162e-6,0.000014537916796309766,8.262295091921218e-6,0.00001752408416114915,0.00013863740819800753,0.00006389151246464995,0.00010972539736927195,0.0007019347511311993,0.0002612652940268649,0.00036200944577294584,0.0018668567436371465,0.000559730864120454,0.0006243105757831644,0.0025898885961946477,0.0006243105757831805,0.0005597308641204397,0.001866856743637143,0.0003620094457729514,0.00026126529402686015,0.0007019347511311993,5.723956228496181e-7,6.185775991501851e-6,3.903158404427947e-6,9.198054650179837e-6,0.00008090780732843716,0.000041484321782717853,0.00007931092802334481,0.0005651070148399843,0.00023437678888481146,0.00036200944577294595,0.002081869865191966,0.0006964423420185509,0.000867204490915862,0.0040176351136132415,0.001081276400585631,0.0010812764005856408,0.0040176351136132415,0.0008672044909158707,0.0006964423420185499,0.0020818698651919633,0.00036200944577294465,0.00023437678888481176,1.4924312311866081e-6,3.903158404427755e-6,0.0000381321773421891,0.000021731508417512523,0.00004621110619395142,0.0003664607391531488,0.00016925324800557838,0.000291253234825068,0.0018668567436371465,0.0006964423420185608,0.000968129997836591,0.0050167612627308915,0.001513400789400506,0.0016973984989015949,0.007057580660605612,0.0016973984989016105,0.0015134007894004728,0.005016761262730888,0.0009681299978365987,0.0006964423420185487,0.001866856743637143,0.0002912532348250708,0.000014537916796309766,9.198054650180291e-6,0.00002173150841751145,0.00019161574756774023,0.00009846844976408018,0.00018864391531158553,0.0013467460663294593,0.000559730864120455,0.000867204490915863,0.005016761262730888,0.0016973984989016287,0.0021518053745524525,0.010177421533037774,0.0027788892664715433,0.0027788892664715008,0.01017742153303776,0.0021518053745524903,0.0016973984989016027,0.005016761262730888,0.000867204490915866,0.0005597308641204459,0.001346746066329457,8.262295091920913e-6,0.00008090780732843706,0.000046211106193952566,0.00009846844976407775,0.0007823644859772865,0.00036200944577295533,0.0006243105757831646,0.0040176351136132415,0.0015134007894004864,0.0021518053745524473,0.01163306709240897,0.0037223957047406806,0.004410424136217711,0.018759003725896874,0.004410424136217674,0.0037223957047406915,0.01163306709240897,0.0021518053745524525,0.0015134007894005012,0.00401763511361324,0.000624310575783163,0.0003620094457729519,0.00001752408416115023,0.000041484321782716315,0.0003664607391531488,0.00018864391531159478,0.0003620094457729465,0.0025898885961946477,0.0010812764005856503,0.0016973984989015942,0.010177421533037774,0.0037223957047407027,0.005350220039874917,0.029133961581561143,0.008744316516299077,0.008744316516298962,0.02913396158156113,0.005350220039874955,0.0037223957047406338,0.01017742153303776,0.0016973984989016072,0.0010812764005856345,0.0025898885961946434,0.00036200944577294915,0.000138637408198007,0.00007931092802334774,0.00016925324800557215,0.0013467460663294593,0.0006243105757831797,0.0010812764005856171,0.007057580660605612,0.002778889266471527,0.00441042413621766,0.029133961581561143,0.01204144587630932,0.017757708200521825,0.08239118976257517,0.01775770820052202,0.012041445876309252,0.02913396158156113,0.004410424136217722,0.002778889266471519,0.007057580660605612,0.0010812764005856232,0.0006243105757831741,0.001346746066329457,0.00006389151246464749,0.0005651070148399835,0.00029125323482507524,0.0005597308641204413,0.0040176351136132415,0.0016973984989016263,0.0027788892664714925,0.018759003725896874,0.008744316516299077,0.017757708200521947,0.13891667017393985,0.05420352639984483,0.054203526399845055,0.13891667017393985,0.01775770820052185,0.008744316516299085,0.018759003725896863,0.002778889266471496,0.0016973984989016235,0.00401763511361324,0.0005597308641204352,0.000291253234825073,0.00010972539736927649,0.0002343767888848054,0.0018668567436371465,0.0008672044909158844,0.0015134007894004767,0.01017742153303776,0.004410424136217742,0.008744316516298967,0.08239118976257517,0.054203526399845166,0.14371480095473246,0.9280261023463662,0.14371480095473274,0.05420352639984475,0.08239118976257517,0.008744316516298997,0.004410424136217671,0.01017742153303776,0.001513400789400483,0.0008672044909158759,0.001866856743637143,0.0002343767888848088,0.0007019347511311993,0.00036200944577295256,0.0006964423420185436,0.005016761262730888,0.002151805374552458,0.0037223957047406203,0.029133961581561143,0.017757708200521995,0.05420352639984464,0.9280261023463662,1.0,0.9999999999999974,0.9280261023463662,0.05420352639984508,0.017757708200521957,0.02913396158156113,0.003722395704740693,0.002151805374552486,0.005016761262730888,0.00069644234201854,0.0003620094457729564,0.0007019347511311993,0.0002612652940268552,0.002081869865191966,0.0009681299978366075,0.001697398498901597,0.01163306709240897,0.005350220039875014,0.012041445876309197,0.13891667017393985,0.14371480095473307,0.9999999999999963,0.9999999999999963,0.14371480095473307,0.13891667017393985,0.012041445876309197,0.005350220039875014,0.01163306709240897,0.001697398498901597,0.0009681299978366075,0.002081869865191966,0.0002612652940268552,0.0001222745410642333,0.0003620094457729564,0.00069644234201854,0.005016761262730888,0.002151805374552486,0.003722395704740693,0.02913396158156113,0.017757708200521957,0.05420352639984508,0.9280261023463662,0.9999999999999974,1.0,0.9280261023463662,0.05420352639984464,0.017757708200521995,0.029133961581561143,0.0037223957047406203,0.002151805374552458,0.005016761262730888,0.0006964423420185436,0.00036200944577295256,0.0007019347511311993,0.00007931092802334595,0.001866856743637143,0.0008672044909158759,0.001513400789400483,0.01017742153303776,0.004410424136217671,0.008744316516298997,0.08239118976257517,0.05420352639984475,0.14371480095473274,0.9280261023463662,0.14371480095473246,0.054203526399845166,0.08239118976257517,0.008744316516298967,0.004410424136217742,0.01017742153303776,0.0015134007894004767,0.0008672044909158844,0.0018668567436371465,0.0002343767888848054,0.00010972539736927649,0.00019161574756773999,0.0005597308641204352,0.00401763511361324,0.0016973984989016235,0.002778889266471496,0.018759003725896863,0.008744316516299085,0.01775770820052185,0.13891667017393985,0.054203526399845055,0.05420352639984483,0.13891667017393985,0.017757708200521947,0.008744316516299077,0.018759003725896874,0.0027788892664714925,0.0016973984989016263,0.0040176351136132415,0.0005597308641204413,0.00029125323482507524,0.0005651070148399835,0.00006389151246464749,0.000026953543789230084,0.0006243105757831741,0.0010812764005856232,0.007057580660605612,0.002778889266471519,0.004410424136217722,0.02913396158156113,0.012041445876309252,0.01775770820052202,0.08239118976257517,0.017757708200521825,0.01204144587630932,0.029133961581561143,0.00441042413621766,0.002778889266471527,0.007057580660605612,0.0010812764005856171,0.0006243105757831797,0.0013467460663294593,0.00016925324800557215,0.00007931092802334774,0.000138637408198007,0.000014133567700449055,0.0025898885961946434,0.0010812764005856345,0.0016973984989016072,0.01017742153303776,0.0037223957047406338,0.005350220039874955,0.02913396158156113,0.008744316516298962,0.008744316516299077,0.029133961581561143,0.005350220039874917,0.0037223957047407027,0.010177421533037774,0.0016973984989015942,0.0010812764005856503,0.0025898885961946477,0.0003620094457729465,0.00018864391531159478,0.0003664607391531488,0.000041484321782716315,0.00001752408416115023,0.000027640151270912527,0.000624310575783163,0.00401763511361324,0.0015134007894005012,0.0021518053745524525,0.01163306709240897,0.0037223957047406915,0.004410424136217674,0.018759003725896874,0.004410424136217711,0.0037223957047406806,0.01163306709240897,0.0021518053745524473,0.0015134007894004864,0.0040176351136132415,0.0006243105757831646,0.00036200944577295533,0.0007823644859772865,0.00009846844976407775,0.000046211106193952566,0.00008090780732843706,8.262295091920913e-6,3.1514955690014676e-6,0.0005597308641204459,0.000867204490915866,0.005016761262730888,0.0016973984989016027,0.0021518053745524903,0.01017742153303776,0.0027788892664715008,0.0027788892664715433,0.010177421533037774,0.0021518053745524525,0.0016973984989016287,0.005016761262730888,0.000867204490915863,0.000559730864120455,0.0013467460663294593,0.00018864391531158553,0.00009846844976408018,0.00019161574756774023,0.00002173150841751145,9.198054650180291e-6,0.000014537916796309766,1.3414843492223966e-6,0.001866856743637143,0.0006964423420185487,0.0009681299978365987,0.005016761262730888,0.0015134007894004728,0.0016973984989016105,0.007057580660605612,0.0016973984989015949,0.001513400789400506,0.0050167612627308915,0.000968129997836591,0.0006964423420185608,0.0018668567436371465,0.000291253234825068,0.00016925324800557838,0.0003664607391531488,0.00004621110619395142,0.000021731508417512523,0.0000381321773421891,3.903158404427755e-6,1.4924312311866081e-6,2.132937530726963e-6,0.00036200944577294465,0.0020818698651919633,0.0006964423420185499,0.0008672044909158707,0.0040176351136132415,0.0010812764005856408,0.001081276400585631,0.0040176351136132415,0.000867204490915862,0.0006964423420185509,0.002081869865191966,0.00036200944577294595,0.00023437678888481146,0.0005651070148399843,0.00007931092802334481,0.000041484321782717853,0.00008090780732843716,9.198054650179837e-6,3.903158404427947e-6,6.185775991501851e-6,5.723956228496181e-7,1.980372473327729e-7,0.00026126529402686015,0.0003620094457729514,0.001866856743637143,0.0005597308641204397,0.0006243105757831805,0.0025898885961946477,0.0006243105757831644,0.000559730864120454,0.0018668567436371465,0.00036200944577294584,0.0002612652940268649,0.0007019347511311993,0.00010972539736927195,0.00006389151246464995,0.00013863740819800753,0.00001752408416114915,8.262295091921218e-6,0.000014537916796309766,1.4924312311865162e-6,5.723956228496533e-7,8.206297023965607e-7,6.875451416897003e-8,0.0007019347511311993,0.0002343767888848096,0.00029125323482507263,0.0013467460663294593,0.00036200944577294573,0.0003620094457729519,0.0013467460663294593,0.00029125323482506765,0.0002343767888848131,0.0007019347511312004,0.000122274541064231,0.00007931092802334792,0.00019161574756774023,0.000026953543789229084,0.000014133567700449572,0.000027640151270912527,3.1514955690013516e-6,1.3414843492224627e-6,2.132937530726963e-6,1.9803724733276794e-7,6.875451416897342e-8,8.930225559358617e-8],\"colorscale\":[[0,\"black\"],[1,\"white\"]],\"size\":8},\"mode\":\"markers\",\"showlegend\":false,\"text\":[\"(1̅0, 1̅0, 0)\",\"(9̅, 1̅0, 0)\",\"(8̅, 1̅0, 0)\",\"(7̅, 1̅0, 0)\",\"(6̅, 1̅0, 0)\",\"(5̅, 1̅0, 0)\",\"(4̅, 1̅0, 0)\",\"(3̅, 1̅0, 0)\",\"(2̅, 1̅0, 0)\",\"(1̅, 1̅0, 0)\",\"(0, 1̅0, 0)\",\"(1, 1̅0, 0)\",\"(2, 1̅0, 0)\",\"(3, 1̅0, 0)\",\"(4, 1̅0, 0)\",\"(5, 1̅0, 0)\",\"(6, 1̅0, 0)\",\"(7, 1̅0, 0)\",\"(8, 1̅0, 0)\",\"(9, 1̅0, 0)\",\"(10, 1̅0, 0)\",\"(11, 1̅0, 0)\",\"(1̅0, 9̅, 0)\",\"(9̅, 9̅, 0)\",\"(8̅, 9̅, 0)\",\"(7̅, 9̅, 0)\",\"(6̅, 9̅, 0)\",\"(5̅, 9̅, 0)\",\"(4̅, 9̅, 0)\",\"(3̅, 9̅, 0)\",\"(2̅, 9̅, 0)\",\"(1̅, 9̅, 0)\",\"(0, 9̅, 0)\",\"(1, 9̅, 0)\",\"(2, 9̅, 0)\",\"(3, 9̅, 0)\",\"(4, 9̅, 0)\",\"(5, 9̅, 0)\",\"(6, 9̅, 0)\",\"(7, 9̅, 0)\",\"(8, 9̅, 0)\",\"(9, 9̅, 0)\",\"(10, 9̅, 0)\",\"(11, 9̅, 0)\",\"(1̅0, 8̅, 0)\",\"(9̅, 8̅, 0)\",\"(8̅, 8̅, 0)\",\"(7̅, 8̅, 0)\",\"(6̅, 8̅, 0)\",\"(5̅, 8̅, 0)\",\"(4̅, 8̅, 0)\",\"(3̅, 8̅, 0)\",\"(2̅, 8̅, 0)\",\"(1̅, 8̅, 0)\",\"(0, 8̅, 0)\",\"(1, 8̅, 0)\",\"(2, 8̅, 0)\",\"(3, 8̅, 0)\",\"(4, 8̅, 0)\",\"(5, 8̅, 0)\",\"(6, 8̅, 0)\",\"(7, 8̅, 0)\",\"(8, 8̅, 0)\",\"(9, 8̅, 0)\",\"(10, 8̅, 0)\",\"(11, 8̅, 0)\",\"(1̅0, 7̅, 0)\",\"(9̅, 7̅, 0)\",\"(8̅, 7̅, 0)\",\"(7̅, 7̅, 0)\",\"(6̅, 7̅, 0)\",\"(5̅, 7̅, 0)\",\"(4̅, 7̅, 0)\",\"(3̅, 7̅, 0)\",\"(2̅, 7̅, 0)\",\"(1̅, 7̅, 0)\",\"(0, 7̅, 0)\",\"(1, 7̅, 0)\",\"(2, 7̅, 0)\",\"(3, 7̅, 0)\",\"(4, 7̅, 0)\",\"(5, 7̅, 0)\",\"(6, 7̅, 0)\",\"(7, 7̅, 0)\",\"(8, 7̅, 0)\",\"(9, 7̅, 0)\",\"(10, 7̅, 0)\",\"(11, 7̅, 0)\",\"(1̅0, 6̅, 0)\",\"(9̅, 6̅, 0)\",\"(8̅, 6̅, 0)\",\"(7̅, 6̅, 0)\",\"(6̅, 6̅, 0)\",\"(5̅, 6̅, 0)\",\"(4̅, 6̅, 0)\",\"(3̅, 6̅, 0)\",\"(2̅, 6̅, 0)\",\"(1̅, 6̅, 0)\",\"(0, 6̅, 0)\",\"(1, 6̅, 0)\",\"(2, 6̅, 0)\",\"(3, 6̅, 0)\",\"(4, 6̅, 0)\",\"(5, 6̅, 0)\",\"(6, 6̅, 0)\",\"(7, 6̅, 0)\",\"(8, 6̅, 0)\",\"(9, 6̅, 0)\",\"(10, 6̅, 0)\",\"(11, 6̅, 0)\",\"(1̅0, 5̅, 0)\",\"(9̅, 5̅, 0)\",\"(8̅, 5̅, 0)\",\"(7̅, 5̅, 0)\",\"(6̅, 5̅, 0)\",\"(5̅, 5̅, 0)\",\"(4̅, 5̅, 0)\",\"(3̅, 5̅, 0)\",\"(2̅, 5̅, 0)\",\"(1̅, 5̅, 0)\",\"(0, 5̅, 0)\",\"(1, 5̅, 0)\",\"(2, 5̅, 0)\",\"(3, 5̅, 0)\",\"(4, 5̅, 0)\",\"(5, 5̅, 0)\",\"(6, 5̅, 0)\",\"(7, 5̅, 0)\",\"(8, 5̅, 0)\",\"(9, 5̅, 0)\",\"(10, 5̅, 0)\",\"(11, 5̅, 0)\",\"(1̅0, 4̅, 0)\",\"(9̅, 4̅, 0)\",\"(8̅, 4̅, 0)\",\"(7̅, 4̅, 0)\",\"(6̅, 4̅, 0)\",\"(5̅, 4̅, 0)\",\"(4̅, 4̅, 0)\",\"(3̅, 4̅, 0)\",\"(2̅, 4̅, 0)\",\"(1̅, 4̅, 0)\",\"(0, 4̅, 0)\",\"(1, 4̅, 0)\",\"(2, 4̅, 0)\",\"(3, 4̅, 0)\",\"(4, 4̅, 0)\",\"(5, 4̅, 0)\",\"(6, 4̅, 0)\",\"(7, 4̅, 0)\",\"(8, 4̅, 0)\",\"(9, 4̅, 0)\",\"(10, 4̅, 0)\",\"(11, 4̅, 0)\",\"(1̅0, 3̅, 0)\",\"(9̅, 3̅, 0)\",\"(8̅, 3̅, 0)\",\"(7̅, 3̅, 0)\",\"(6̅, 3̅, 0)\",\"(5̅, 3̅, 0)\",\"(4̅, 3̅, 0)\",\"(3̅, 3̅, 0)\",\"(2̅, 3̅, 0)\",\"(1̅, 3̅, 0)\",\"(0, 3̅, 0)\",\"(1, 3̅, 0)\",\"(2, 3̅, 0)\",\"(3, 3̅, 0)\",\"(4, 3̅, 0)\",\"(5, 3̅, 0)\",\"(6, 3̅, 0)\",\"(7, 3̅, 0)\",\"(8, 3̅, 0)\",\"(9, 3̅, 0)\",\"(10, 3̅, 0)\",\"(11, 3̅, 0)\",\"(1̅0, 2̅, 0)\",\"(9̅, 2̅, 0)\",\"(8̅, 2̅, 0)\",\"(7̅, 2̅, 0)\",\"(6̅, 2̅, 0)\",\"(5̅, 2̅, 0)\",\"(4̅, 2̅, 0)\",\"(3̅, 2̅, 0)\",\"(2̅, 2̅, 0)\",\"(1̅, 2̅, 0)\",\"(0, 2̅, 0)\",\"(1, 2̅, 0)\",\"(2, 2̅, 0)\",\"(3, 2̅, 0)\",\"(4, 2̅, 0)\",\"(5, 2̅, 0)\",\"(6, 2̅, 0)\",\"(7, 2̅, 0)\",\"(8, 2̅, 0)\",\"(9, 2̅, 0)\",\"(10, 2̅, 0)\",\"(11, 2̅, 0)\",\"(1̅0, 1̅, 0)\",\"(9̅, 1̅, 0)\",\"(8̅, 1̅, 0)\",\"(7̅, 1̅, 0)\",\"(6̅, 1̅, 0)\",\"(5̅, 1̅, 0)\",\"(4̅, 1̅, 0)\",\"(3̅, 1̅, 0)\",\"(2̅, 1̅, 0)\",\"(1̅, 1̅, 0)\",\"(0, 1̅, 0)\",\"(1, 1̅, 0)\",\"(2, 1̅, 0)\",\"(3, 1̅, 0)\",\"(4, 1̅, 0)\",\"(5, 1̅, 0)\",\"(6, 1̅, 0)\",\"(7, 1̅, 0)\",\"(8, 1̅, 0)\",\"(9, 1̅, 0)\",\"(10, 1̅, 0)\",\"(11, 1̅, 0)\",\"(1̅0, 0, 0)\",\"(9̅, 0, 0)\",\"(8̅, 0, 0)\",\"(7̅, 0, 0)\",\"(6̅, 0, 0)\",\"(5̅, 0, 0)\",\"(4̅, 0, 0)\",\"(3̅, 0, 0)\",\"(2̅, 0, 0)\",\"(1̅, 0, 0)\",\"(1, 0, 0)\",\"(2, 0, 0)\",\"(3, 0, 0)\",\"(4, 0, 0)\",\"(5, 0, 0)\",\"(6, 0, 0)\",\"(7, 0, 0)\",\"(8, 0, 0)\",\"(9, 0, 0)\",\"(10, 0, 0)\",\"(11, 0, 0)\",\"(1̅0, 1, 0)\",\"(9̅, 1, 0)\",\"(8̅, 1, 0)\",\"(7̅, 1, 0)\",\"(6̅, 1, 0)\",\"(5̅, 1, 0)\",\"(4̅, 1, 0)\",\"(3̅, 1, 0)\",\"(2̅, 1, 0)\",\"(1̅, 1, 0)\",\"(0, 1, 0)\",\"(1, 1, 0)\",\"(2, 1, 0)\",\"(3, 1, 0)\",\"(4, 1, 0)\",\"(5, 1, 0)\",\"(6, 1, 0)\",\"(7, 1, 0)\",\"(8, 1, 0)\",\"(9, 1, 0)\",\"(10, 1, 0)\",\"(11, 1, 0)\",\"(1̅0, 2, 0)\",\"(9̅, 2, 0)\",\"(8̅, 2, 0)\",\"(7̅, 2, 0)\",\"(6̅, 2, 0)\",\"(5̅, 2, 0)\",\"(4̅, 2, 0)\",\"(3̅, 2, 0)\",\"(2̅, 2, 0)\",\"(1̅, 2, 0)\",\"(0, 2, 0)\",\"(1, 2, 0)\",\"(2, 2, 0)\",\"(3, 2, 0)\",\"(4, 2, 0)\",\"(5, 2, 0)\",\"(6, 2, 0)\",\"(7, 2, 0)\",\"(8, 2, 0)\",\"(9, 2, 0)\",\"(10, 2, 0)\",\"(11, 2, 0)\",\"(1̅0, 3, 0)\",\"(9̅, 3, 0)\",\"(8̅, 3, 0)\",\"(7̅, 3, 0)\",\"(6̅, 3, 0)\",\"(5̅, 3, 0)\",\"(4̅, 3, 0)\",\"(3̅, 3, 0)\",\"(2̅, 3, 0)\",\"(1̅, 3, 0)\",\"(0, 3, 0)\",\"(1, 3, 0)\",\"(2, 3, 0)\",\"(3, 3, 0)\",\"(4, 3, 0)\",\"(5, 3, 0)\",\"(6, 3, 0)\",\"(7, 3, 0)\",\"(8, 3, 0)\",\"(9, 3, 0)\",\"(10, 3, 0)\",\"(11, 3, 0)\",\"(1̅0, 4, 0)\",\"(9̅, 4, 0)\",\"(8̅, 4, 0)\",\"(7̅, 4, 0)\",\"(6̅, 4, 0)\",\"(5̅, 4, 0)\",\"(4̅, 4, 0)\",\"(3̅, 4, 0)\",\"(2̅, 4, 0)\",\"(1̅, 4, 0)\",\"(0, 4, 0)\",\"(1, 4, 0)\",\"(2, 4, 0)\",\"(3, 4, 0)\",\"(4, 4, 0)\",\"(5, 4, 0)\",\"(6, 4, 0)\",\"(7, 4, 0)\",\"(8, 4, 0)\",\"(9, 4, 0)\",\"(10, 4, 0)\",\"(11, 4, 0)\",\"(1̅0, 5, 0)\",\"(9̅, 5, 0)\",\"(8̅, 5, 0)\",\"(7̅, 5, 0)\",\"(6̅, 5, 0)\",\"(5̅, 5, 0)\",\"(4̅, 5, 0)\",\"(3̅, 5, 0)\",\"(2̅, 5, 0)\",\"(1̅, 5, 0)\",\"(0, 5, 0)\",\"(1, 5, 0)\",\"(2, 5, 0)\",\"(3, 5, 0)\",\"(4, 5, 0)\",\"(5, 5, 0)\",\"(6, 5, 0)\",\"(7, 5, 0)\",\"(8, 5, 0)\",\"(9, 5, 0)\",\"(10, 5, 0)\",\"(11, 5, 0)\",\"(1̅0, 6, 0)\",\"(9̅, 6, 0)\",\"(8̅, 6, 0)\",\"(7̅, 6, 0)\",\"(6̅, 6, 0)\",\"(5̅, 6, 0)\",\"(4̅, 6, 0)\",\"(3̅, 6, 0)\",\"(2̅, 6, 0)\",\"(1̅, 6, 0)\",\"(0, 6, 0)\",\"(1, 6, 0)\",\"(2, 6, 0)\",\"(3, 6, 0)\",\"(4, 6, 0)\",\"(5, 6, 0)\",\"(6, 6, 0)\",\"(7, 6, 0)\",\"(8, 6, 0)\",\"(9, 6, 0)\",\"(10, 6, 0)\",\"(11, 6, 0)\",\"(1̅0, 7, 0)\",\"(9̅, 7, 0)\",\"(8̅, 7, 0)\",\"(7̅, 7, 0)\",\"(6̅, 7, 0)\",\"(5̅, 7, 0)\",\"(4̅, 7, 0)\",\"(3̅, 7, 0)\",\"(2̅, 7, 0)\",\"(1̅, 7, 0)\",\"(0, 7, 0)\",\"(1, 7, 0)\",\"(2, 7, 0)\",\"(3, 7, 0)\",\"(4, 7, 0)\",\"(5, 7, 0)\",\"(6, 7, 0)\",\"(7, 7, 0)\",\"(8, 7, 0)\",\"(9, 7, 0)\",\"(10, 7, 0)\",\"(11, 7, 0)\",\"(1̅0, 8, 0)\",\"(9̅, 8, 0)\",\"(8̅, 8, 0)\",\"(7̅, 8, 0)\",\"(6̅, 8, 0)\",\"(5̅, 8, 0)\",\"(4̅, 8, 0)\",\"(3̅, 8, 0)\",\"(2̅, 8, 0)\",\"(1̅, 8, 0)\",\"(0, 8, 0)\",\"(1, 8, 0)\",\"(2, 8, 0)\",\"(3, 8, 0)\",\"(4, 8, 0)\",\"(5, 8, 0)\",\"(6, 8, 0)\",\"(7, 8, 0)\",\"(8, 8, 0)\",\"(9, 8, 0)\",\"(10, 8, 0)\",\"(11, 8, 0)\",\"(1̅0, 9, 0)\",\"(9̅, 9, 0)\",\"(8̅, 9, 0)\",\"(7̅, 9, 0)\",\"(6̅, 9, 0)\",\"(5̅, 9, 0)\",\"(4̅, 9, 0)\",\"(3̅, 9, 0)\",\"(2̅, 9, 0)\",\"(1̅, 9, 0)\",\"(0, 9, 0)\",\"(1, 9, 0)\",\"(2, 9, 0)\",\"(3, 9, 0)\",\"(4, 9, 0)\",\"(5, 9, 0)\",\"(6, 9, 0)\",\"(7, 9, 0)\",\"(8, 9, 0)\",\"(9, 9, 0)\",\"(10, 9, 0)\",\"(11, 9, 0)\",\"(1̅0, 10, 0)\",\"(9̅, 10, 0)\",\"(8̅, 10, 0)\",\"(7̅, 10, 0)\",\"(6̅, 10, 0)\",\"(5̅, 10, 0)\",\"(4̅, 10, 0)\",\"(3̅, 10, 0)\",\"(2̅, 10, 0)\",\"(1̅, 10, 0)\",\"(0, 10, 0)\",\"(1, 10, 0)\",\"(2, 10, 0)\",\"(3, 10, 0)\",\"(4, 10, 0)\",\"(5, 10, 0)\",\"(6, 10, 0)\",\"(7, 10, 0)\",\"(8, 10, 0)\",\"(9, 10, 0)\",\"(10, 10, 0)\",\"(11, 10, 0)\",\"(1̅0, 11, 0)\",\"(9̅, 11, 0)\",\"(8̅, 11, 0)\",\"(7̅, 11, 0)\",\"(6̅, 11, 0)\",\"(5̅, 11, 0)\",\"(4̅, 11, 0)\",\"(3̅, 11, 0)\",\"(2̅, 11, 0)\",\"(1̅, 11, 0)\",\"(0, 11, 0)\",\"(1, 11, 0)\",\"(2, 11, 0)\",\"(3, 11, 0)\",\"(4, 11, 0)\",\"(5, 11, 0)\",\"(6, 11, 0)\",\"(7, 11, 0)\",\"(8, 11, 0)\",\"(9, 11, 0)\",\"(10, 11, 0)\",\"(11, 11, 0)\"],\"x\":[27.756352639403506,26.831140884756714,25.90592913010993,24.980717375463147,24.055505620816362,23.13029386616958,22.205082111522795,21.27987035687601,20.35465860222923,19.429446847582444,18.50423509293566,17.579023338288877,16.653811583642092,15.728599828995309,14.803388074348524,13.878176319701742,12.952964565054955,12.027752810408174,11.102541055761389,10.17732930111461,9.252117546467826,8.326905791821037,25.90592913010993,24.980717375463147,24.055505620816362,23.13029386616958,22.205082111522795,21.279870356876014,20.35465860222923,19.429446847582447,18.504235092935662,17.579023338288877,16.653811583642096,15.72859982899531,14.803388074348526,13.878176319701742,12.952964565054959,12.027752810408176,11.102541055761389,10.177329301114607,9.252117546467822,8.32690579182104,7.401694037174263,6.476482282527474,24.055505620816366,23.13029386616958,22.2050821115228,21.279870356876014,20.354658602229232,19.429446847582447,18.504235092935662,17.579023338288877,16.653811583642096,15.728599828995312,14.803388074348527,13.878176319701744,12.95296456505496,12.027752810408176,11.102541055761392,10.177329301114609,9.252117546467826,8.32690579182104,7.401694037174259,6.476482282527474,5.551270527880693,4.626058773233911,22.2050821115228,21.279870356876017,20.354658602229232,19.42944684758245,18.504235092935666,17.57902333828888,16.653811583642096,15.728599828995312,14.803388074348529,13.878176319701746,12.952964565054963,12.027752810408177,11.102541055761396,10.177329301114609,9.252117546467826,8.326905791821043,7.401694037174259,6.476482282527478,5.551270527880693,4.626058773233911,3.700847018587126,2.775635263940341,20.354658602229232,19.42944684758245,18.504235092935666,17.579023338288884,16.6538115836421,15.728599828995314,14.80338807434853,13.878176319701748,12.952964565054963,12.02775281040818,11.102541055761396,10.177329301114613,9.25211754646783,8.326905791821044,7.401694037174261,6.476482282527476,5.551270527880693,4.626058773233911,3.700847018587126,2.7756352639403445,1.8504235092935595,0.9252117546467744,18.504235092935666,17.579023338288884,16.6538115836421,15.728599828995318,14.803388074348533,13.878176319701748,12.952964565054964,12.027752810408181,11.102541055761398,10.177329301114614,9.25211754646783,8.326905791821046,7.401694037174262,6.476482282527478,5.551270527880694,4.626058773233913,3.700847018587126,2.7756352639403445,1.8504235092935595,0.925211754646778,-7.105427357601002e-15,-0.9252117546467886,16.6538115836421,15.728599828995318,14.803388074348533,13.878176319701751,12.952964565054966,12.027752810408183,11.1025410557614,10.177329301114616,9.252117546467831,8.326905791821048,7.401694037174264,6.47648228252748,5.551270527880696,4.626058773233913,3.7008470185871296,2.7756352639403463,1.8504235092935595,0.925211754646778,-7.105427357601002e-15,-0.9252117546467886,-1.8504235092935737,-2.775635263940355,14.803388074348533,13.878176319701751,12.952964565054966,12.027752810408185,11.1025410557614,10.177329301114616,9.252117546467833,8.32690579182105,7.401694037174265,6.476482282527481,5.551270527880698,4.626058773233915,3.7008470185871305,2.7756352639403463,1.850423509293563,0.9252117546467797,-7.105427357601002e-15,-0.9252117546467886,-1.8504235092935737,-2.775635263940355,-3.7008470185871403,-4.626058773233922,12.95296456505497,12.027752810408188,11.102541055761403,10.177329301114622,9.252117546467836,8.32690579182105,7.401694037174266,6.476482282527483,5.5512705278807,4.626058773233916,3.700847018587132,2.775635263940348,1.8504235092935648,0.9252117546467797,-3.552713678800501e-15,-0.9252117546467868,-1.8504235092935701,-2.775635263940355,-3.7008470185871367,-4.626058773233922,-5.551270527880703,-6.476482282527488,11.102541055761403,10.177329301114622,9.252117546467836,8.326905791821055,7.40169403717427,6.476482282527485,5.5512705278807015,4.626058773233918,3.700847018587133,2.77563526394035,1.8504235092935666,0.9252117546467824,-1.7763568394002505e-15,-0.9252117546467851,-1.8504235092935684,-2.7756352639403516,-3.7008470185871367,-4.626058773233922,-5.551270527880703,-6.476482282527488,-7.40169403717427,-8.326905791821055,9.252117546467836,8.326905791821055,7.40169403717427,6.476482282527488,5.551270527880703,4.626058773233918,3.700847018587135,2.7756352639403516,1.8504235092935675,0.9252117546467837,-0.9252117546467837,-1.8504235092935675,-2.7756352639403516,-3.700847018587135,-4.626058773233918,-5.551270527880703,-6.476482282527488,-7.40169403717427,-8.326905791821055,-9.252117546467836,-10.177329301114622,7.40169403717427,6.476482282527488,5.551270527880703,4.626058773233922,3.7008470185871367,2.7756352639403516,1.8504235092935684,0.9252117546467851,1.7763568394002505e-15,-0.9252117546467824,-1.850423509293566,-2.77563526394035,-3.700847018587133,-4.626058773233918,-5.5512705278807015,-6.476482282527485,-7.40169403717427,-8.326905791821055,-9.252117546467836,-10.177329301114622,-11.102541055761403,-12.027752810408188,5.551270527880703,4.626058773233922,3.7008470185871367,2.775635263940355,1.8504235092935701,0.9252117546467868,3.552713678800501e-15,-0.9252117546467797,-1.8504235092935648,-2.775635263940348,-3.700847018587132,-4.626058773233916,-5.5512705278807,-6.476482282527483,-7.401694037174266,-8.32690579182105,-9.252117546467836,-10.177329301114622,-11.102541055761403,-12.027752810408188,-12.95296456505497,-13.878176319701755,3.7008470185871403,2.775635263940355,1.8504235092935737,0.9252117546467886,7.105427357601002e-15,-0.9252117546467797,-1.850423509293563,-2.7756352639403463,-3.7008470185871305,-4.626058773233915,-5.551270527880698,-6.476482282527481,-7.401694037174265,-8.32690579182105,-9.252117546467833,-10.177329301114616,-11.1025410557614,-12.027752810408185,-12.952964565054966,-13.878176319701751,-14.803388074348533,-15.728599828995321,1.8504235092935737,0.9252117546467886,7.105427357601002e-15,-0.925211754646778,-1.8504235092935595,-2.7756352639403463,-3.7008470185871296,-4.626058773233913,-5.551270527880696,-6.47648228252748,-7.401694037174264,-8.326905791821048,-9.252117546467831,-10.177329301114616,-11.1025410557614,-12.027752810408183,-12.952964565054966,-13.878176319701751,-14.803388074348533,-15.728599828995318,-16.6538115836421,-17.579023338288888,7.105427357601002e-15,-0.925211754646778,-1.8504235092935595,-2.7756352639403445,-3.700847018587126,-4.626058773233913,-5.551270527880694,-6.476482282527478,-7.401694037174262,-8.326905791821046,-9.25211754646783,-10.177329301114614,-11.102541055761398,-12.027752810408181,-12.952964565054964,-13.878176319701748,-14.803388074348533,-15.728599828995318,-16.6538115836421,-17.579023338288884,-18.504235092935666,-19.429446847582454,-1.8504235092935595,-2.7756352639403445,-3.700847018587126,-4.626058773233911,-5.551270527880693,-6.476482282527476,-7.401694037174261,-8.326905791821044,-9.25211754646783,-10.177329301114613,-11.102541055761396,-12.02775281040818,-12.952964565054963,-13.878176319701748,-14.80338807434853,-15.728599828995314,-16.6538115836421,-17.579023338288884,-18.504235092935666,-19.42944684758245,-20.354658602229232,-21.279870356876014,-3.700847018587126,-4.626058773233911,-5.551270527880693,-6.476482282527478,-7.401694037174259,-8.326905791821043,-9.252117546467826,-10.177329301114609,-11.102541055761396,-12.027752810408177,-12.952964565054963,-13.878176319701746,-14.803388074348529,-15.728599828995312,-16.653811583642096,-17.57902333828888,-18.504235092935666,-19.42944684758245,-20.354658602229232,-21.279870356876017,-22.2050821115228,-23.13029386616958,-5.551270527880693,-6.476482282527474,-7.401694037174259,-8.32690579182104,-9.252117546467826,-10.177329301114609,-11.102541055761392,-12.027752810408176,-12.95296456505496,-13.878176319701744,-14.803388074348527,-15.728599828995312,-16.653811583642096,-17.579023338288877,-18.504235092935662,-19.429446847582447,-20.354658602229232,-21.279870356876014,-22.2050821115228,-23.13029386616958,-24.055505620816366,-24.980717375463147,-7.401694037174263,-8.32690579182104,-9.252117546467822,-10.177329301114607,-11.102541055761389,-12.027752810408176,-12.952964565054959,-13.878176319701742,-14.803388074348526,-15.72859982899531,-16.653811583642096,-17.579023338288877,-18.504235092935662,-19.429446847582447,-20.35465860222923,-21.279870356876014,-22.205082111522795,-23.13029386616958,-24.055505620816362,-24.980717375463147,-25.90592913010993,-26.831140884756714,-9.252117546467826,-10.17732930111461,-11.102541055761389,-12.027752810408174,-12.952964565054955,-13.878176319701742,-14.803388074348524,-15.728599828995309,-16.653811583642092,-17.579023338288877,-18.50423509293566,-19.429446847582444,-20.35465860222923,-21.27987035687601,-22.205082111522795,-23.13029386616958,-24.055505620816362,-24.980717375463147,-25.90592913010993,-26.831140884756714,-27.756352639403495,-28.68156439405028,-11.102541055761382,-12.027752810408174,-12.952964565054959,-13.87817631970174,-14.803388074348522,-15.728599828995307,-16.65381158364209,-17.579023338288877,-18.50423509293566,-19.42944684758244,-20.354658602229225,-21.27987035687601,-22.205082111522792,-23.13029386616958,-24.055505620816362,-24.980717375463144,-25.90592913010993,-26.831140884756714,-27.756352639403495,-28.68156439405028,-29.60677614869706,-30.531987903343847],\"y\":[16.02513766808178,14.422623901273596,12.820110134465418,11.217596367657242,9.615082600849064,8.012568834040884,6.410055067232707,4.80754130042453,3.2050275336163523,1.6025137668081744,-3.3359019022298026e-15,-1.602513766808181,-3.2050275336163585,-4.807541300424537,-6.410055067232714,-8.012568834040891,-9.615082600849071,-11.217596367657249,-12.820110134465425,-14.422623901273603,-16.02513766808178,-17.62765143488996,16.025137668081772,14.422623901273596,12.820110134465418,11.217596367657242,9.615082600849064,8.012568834040886,6.410055067232708,4.807541300424531,3.2050275336163523,1.6025137668081748,-3.0023117120068225e-15,-1.6025137668081806,-3.2050275336163585,-4.807541300424536,-6.4100550672327135,-8.012568834040891,-9.615082600849071,-11.217596367657249,-12.820110134465425,-14.422623901273603,-16.02513766808178,-17.62765143488996,16.025137668081776,14.422623901273596,12.82011013446542,11.217596367657242,9.615082600849066,8.012568834040886,6.410055067232708,4.807541300424531,3.2050275336163527,1.602513766808175,-2.668721521783842e-15,-1.6025137668081804,-3.205027533616358,-4.807541300424536,-6.4100550672327135,-8.012568834040891,-9.61508260084907,-11.217596367657249,-12.820110134465423,-14.422623901273603,-16.02513766808178,-17.62765143488996,16.025137668081776,14.422623901273598,12.82011013446542,11.217596367657244,9.615082600849066,8.012568834040886,6.410055067232708,4.807541300424531,3.205027533616353,1.6025137668081753,-2.3351313315608618e-15,-1.6025137668081801,-3.2050275336163576,-4.807541300424536,-6.4100550672327135,-8.012568834040891,-9.61508260084907,-11.217596367657247,-12.820110134465423,-14.422623901273601,-16.02513766808178,-17.62765143488996,16.025137668081776,14.422623901273598,12.82011013446542,11.217596367657244,9.615082600849066,8.012568834040886,6.410055067232709,4.807541300424532,3.205027533616353,1.6025137668081757,-2.0015411413378816e-15,-1.6025137668081797,-3.2050275336163576,-4.8075413004245355,-6.410055067232713,-8.012568834040891,-9.61508260084907,-11.217596367657247,-12.820110134465423,-14.422623901273601,-16.02513766808178,-17.62765143488996,16.025137668081776,14.422623901273598,12.82011013446542,11.217596367657244,9.615082600849066,8.012568834040886,6.410055067232709,4.807541300424532,3.2050275336163536,1.6025137668081761,-1.6679509511149013e-15,-1.6025137668081793,-3.205027533616357,-4.8075413004245355,-6.410055067232713,-8.01256883404089,-9.61508260084907,-11.217596367657247,-12.820110134465423,-14.422623901273601,-16.02513766808178,-17.627651434889955,16.025137668081776,14.422623901273598,12.82011013446542,11.217596367657244,9.615082600849066,8.012568834040888,6.41005506723271,4.807541300424533,3.205027533616354,1.6025137668081764,-1.334360760891921e-15,-1.602513766808179,-3.2050275336163567,-4.807541300424535,-6.410055067232712,-8.01256883404089,-9.61508260084907,-11.217596367657247,-12.820110134465423,-14.422623901273601,-16.02513766808178,-17.627651434889955,16.025137668081776,14.422623901273598,12.82011013446542,11.217596367657244,9.615082600849066,8.012568834040888,6.41005506723271,4.807541300424533,3.2050275336163545,1.6025137668081766,-1.0007705706689408e-15,-1.6025137668081788,-3.2050275336163563,-4.807541300424535,-6.410055067232712,-8.01256883404089,-9.61508260084907,-11.217596367657247,-12.820110134465423,-14.422623901273601,-16.02513766808178,-17.627651434889955,16.025137668081776,14.4226239012736,12.820110134465422,11.217596367657245,9.615082600849068,8.012568834040888,6.41005506723271,4.807541300424533,3.205027533616355,1.602513766808177,-6.671803804459605e-16,-1.6025137668081784,-3.205027533616356,-4.807541300424535,-6.410055067232712,-8.01256883404089,-9.615082600849068,-11.217596367657245,-12.820110134465422,-14.4226239012736,-16.025137668081776,-17.627651434889955,16.025137668081776,14.4226239012736,12.820110134465422,11.217596367657245,9.615082600849068,8.012568834040888,6.410055067232711,4.807541300424534,3.205027533616355,1.6025137668081775,0.0,-1.602513766808178,-3.205027533616356,-4.807541300424534,-6.410055067232711,-8.012568834040888,-9.615082600849068,-11.217596367657245,-12.820110134465422,-14.4226239012736,-16.025137668081776,-17.627651434889955,16.025137668081776,14.4226239012736,12.820110134465422,11.217596367657245,9.615082600849068,8.012568834040888,6.410055067232711,4.807541300424534,3.2050275336163554,1.6025137668081777,-1.6025137668081777,-3.2050275336163554,-4.807541300424534,-6.410055067232711,-8.012568834040888,-9.615082600849068,-11.217596367657245,-12.820110134465422,-14.4226239012736,-16.025137668081776,-17.627651434889955,16.025137668081776,14.4226239012736,12.820110134465422,11.217596367657245,9.615082600849068,8.012568834040888,6.410055067232711,4.807541300424534,3.205027533616356,1.602513766808178,3.3359019022298024e-16,-1.6025137668081775,-3.205027533616355,-4.807541300424534,-6.410055067232711,-8.012568834040888,-9.615082600849068,-11.217596367657245,-12.820110134465422,-14.4226239012736,-16.025137668081776,-17.627651434889955,16.025137668081776,14.4226239012736,12.820110134465422,11.217596367657245,9.615082600849068,8.01256883404089,6.410055067232712,4.807541300424535,3.205027533616356,1.6025137668081784,6.671803804459605e-16,-1.602513766808177,-3.205027533616355,-4.807541300424533,-6.41005506723271,-8.012568834040888,-9.615082600849068,-11.217596367657245,-12.820110134465422,-14.4226239012736,-16.025137668081776,-17.627651434889955,16.02513766808178,14.422623901273601,12.820110134465423,11.217596367657247,9.61508260084907,8.01256883404089,6.410055067232712,4.807541300424535,3.2050275336163563,1.6025137668081788,1.0007705706689408e-15,-1.6025137668081766,-3.2050275336163545,-4.807541300424533,-6.41005506723271,-8.012568834040888,-9.615082600849066,-11.217596367657244,-12.82011013446542,-14.422623901273598,-16.025137668081776,-17.627651434889955,16.02513766808178,14.422623901273601,12.820110134465423,11.217596367657247,9.61508260084907,8.01256883404089,6.410055067232712,4.807541300424535,3.2050275336163567,1.602513766808179,1.334360760891921e-15,-1.6025137668081764,-3.205027533616354,-4.807541300424533,-6.41005506723271,-8.012568834040888,-9.615082600849066,-11.217596367657244,-12.82011013446542,-14.422623901273598,-16.025137668081776,-17.627651434889955,16.02513766808178,14.422623901273601,12.820110134465423,11.217596367657247,9.61508260084907,8.01256883404089,6.410055067232713,4.8075413004245355,3.205027533616357,1.6025137668081793,1.6679509511149013e-15,-1.6025137668081761,-3.2050275336163536,-4.807541300424532,-6.410055067232709,-8.012568834040886,-9.615082600849066,-11.217596367657244,-12.82011013446542,-14.422623901273598,-16.025137668081776,-17.627651434889955,16.02513766808178,14.422623901273601,12.820110134465423,11.217596367657247,9.61508260084907,8.012568834040891,6.410055067232713,4.8075413004245355,3.2050275336163576,1.6025137668081797,2.0015411413378816e-15,-1.6025137668081757,-3.205027533616353,-4.807541300424532,-6.410055067232709,-8.012568834040886,-9.615082600849066,-11.217596367657244,-12.82011013446542,-14.422623901273598,-16.025137668081776,-17.627651434889952,16.02513766808178,14.422623901273601,12.820110134465423,11.217596367657247,9.61508260084907,8.012568834040891,6.4100550672327135,4.807541300424536,3.2050275336163576,1.6025137668081801,2.3351313315608618e-15,-1.6025137668081753,-3.205027533616353,-4.807541300424531,-6.410055067232708,-8.012568834040886,-9.615082600849066,-11.217596367657244,-12.82011013446542,-14.422623901273598,-16.025137668081776,-17.627651434889952,16.02513766808178,14.422623901273603,12.820110134465423,11.217596367657249,9.61508260084907,8.012568834040891,6.4100550672327135,4.807541300424536,3.205027533616358,1.6025137668081804,2.668721521783842e-15,-1.602513766808175,-3.2050275336163527,-4.807541300424531,-6.410055067232708,-8.012568834040886,-9.615082600849066,-11.217596367657242,-12.82011013446542,-14.422623901273596,-16.025137668081776,-17.627651434889952,16.02513766808178,14.422623901273603,12.820110134465425,11.217596367657249,9.615082600849071,8.012568834040891,6.4100550672327135,4.807541300424536,3.2050275336163585,1.6025137668081806,3.0023117120068225e-15,-1.6025137668081748,-3.2050275336163523,-4.807541300424531,-6.410055067232708,-8.012568834040886,-9.615082600849064,-11.217596367657242,-12.820110134465418,-14.422623901273596,-16.025137668081772,-17.627651434889952,16.02513766808178,14.422623901273603,12.820110134465425,11.217596367657249,9.615082600849071,8.012568834040891,6.410055067232714,4.807541300424537,3.2050275336163585,1.602513766808181,3.3359019022298026e-15,-1.6025137668081744,-3.2050275336163523,-4.80754130042453,-6.410055067232707,-8.012568834040884,-9.615082600849064,-11.217596367657242,-12.820110134465418,-14.422623901273596,-16.025137668081772,-17.627651434889952,16.025137668081783,14.422623901273603,12.820110134465425,11.217596367657249,9.615082600849071,8.012568834040893,6.410055067232714,4.807541300424537,3.205027533616359,1.6025137668081815,3.669492092452783e-15,-1.602513766808174,-3.205027533616352,-4.80754130042453,-6.410055067232707,-8.012568834040884,-9.615082600849064,-11.217596367657242,-12.820110134465418,-14.422623901273596,-16.025137668081772,-17.627651434889952],\"type\":\"scatter\"},{\"hoverinfo\":\"text\",\"marker\":{\"cmax\":1,\"cmin\":0,\"color\":\"white\",\"size\":14},\"mode\":\"markers\",\"showlegend\":false,\"text\":\"(0, 0, 0): Direct beam\",\"x\":[0],\"y\":[0],\"type\":\"scatter\"}],                        {\"font\":{\"color\":\"#7f7f7f\",\"size\":14},\"height\":550,\"hovermode\":\"closest\",\"paper_bgcolor\":\"rgba(100,110,110,0.5)\",\"plot_bgcolor\":\"black\",\"title\":{\"text\":\"TEM Diffraction (SAED) Pattern - Boron Nitride (BN)\"},\"width\":550,\"xaxis\":{\"range\":[-4,4],\"showgrid\":false,\"showline\":false,\"showticklabels\":false,\"ticks\":\"\",\"zeroline\":false,\"title\":{\"text\":\"Reciprocal Space X\"},\"scaleanchor\":\"y\"},\"yaxis\":{\"range\":[-4,4],\"showgrid\":false,\"showline\":false,\"showticklabels\":false,\"ticks\":\"\",\"zeroline\":false,\"title\":{\"text\":\"Reciprocal Space Y\"}},\"template\":{\"data\":{\"histogram2dcontour\":[{\"type\":\"histogram2dcontour\",\"colorbar\":{\"outlinewidth\":0,\"ticks\":\"\"},\"colorscale\":[[0.0,\"#0d0887\"],[0.1111111111111111,\"#46039f\"],[0.2222222222222222,\"#7201a8\"],[0.3333333333333333,\"#9c179e\"],[0.4444444444444444,\"#bd3786\"],[0.5555555555555556,\"#d8576b\"],[0.6666666666666666,\"#ed7953\"],[0.7777777777777778,\"#fb9f3a\"],[0.8888888888888888,\"#fdca26\"],[1.0,\"#f0f921\"]]}],\"choropleth\":[{\"type\":\"choropleth\",\"colorbar\":{\"outlinewidth\":0,\"ticks\":\"\"}}],\"histogram2d\":[{\"type\":\"histogram2d\",\"colorbar\":{\"outlinewidth\":0,\"ticks\":\"\"},\"colorscale\":[[0.0,\"#0d0887\"],[0.1111111111111111,\"#46039f\"],[0.2222222222222222,\"#7201a8\"],[0.3333333333333333,\"#9c179e\"],[0.4444444444444444,\"#bd3786\"],[0.5555555555555556,\"#d8576b\"],[0.6666666666666666,\"#ed7953\"],[0.7777777777777778,\"#fb9f3a\"],[0.8888888888888888,\"#fdca26\"],[1.0,\"#f0f921\"]]}],\"heatmap\":[{\"type\":\"heatmap\",\"colorbar\":{\"outlinewidth\":0,\"ticks\":\"\"},\"colorscale\":[[0.0,\"#0d0887\"],[0.1111111111111111,\"#46039f\"],[0.2222222222222222,\"#7201a8\"],[0.3333333333333333,\"#9c179e\"],[0.4444444444444444,\"#bd3786\"],[0.5555555555555556,\"#d8576b\"],[0.6666666666666666,\"#ed7953\"],[0.7777777777777778,\"#fb9f3a\"],[0.8888888888888888,\"#fdca26\"],[1.0,\"#f0f921\"]]}],\"heatmapgl\":[{\"type\":\"heatmapgl\",\"colorbar\":{\"outlinewidth\":0,\"ticks\":\"\"},\"colorscale\":[[0.0,\"#0d0887\"],[0.1111111111111111,\"#46039f\"],[0.2222222222222222,\"#7201a8\"],[0.3333333333333333,\"#9c179e\"],[0.4444444444444444,\"#bd3786\"],[0.5555555555555556,\"#d8576b\"],[0.6666666666666666,\"#ed7953\"],[0.7777777777777778,\"#fb9f3a\"],[0.8888888888888888,\"#fdca26\"],[1.0,\"#f0f921\"]]}],\"contourcarpet\":[{\"type\":\"contourcarpet\",\"colorbar\":{\"outlinewidth\":0,\"ticks\":\"\"}}],\"contour\":[{\"type\":\"contour\",\"colorbar\":{\"outlinewidth\":0,\"ticks\":\"\"},\"colorscale\":[[0.0,\"#0d0887\"],[0.1111111111111111,\"#46039f\"],[0.2222222222222222,\"#7201a8\"],[0.3333333333333333,\"#9c179e\"],[0.4444444444444444,\"#bd3786\"],[0.5555555555555556,\"#d8576b\"],[0.6666666666666666,\"#ed7953\"],[0.7777777777777778,\"#fb9f3a\"],[0.8888888888888888,\"#fdca26\"],[1.0,\"#f0f921\"]]}],\"surface\":[{\"type\":\"surface\",\"colorbar\":{\"outlinewidth\":0,\"ticks\":\"\"},\"colorscale\":[[0.0,\"#0d0887\"],[0.1111111111111111,\"#46039f\"],[0.2222222222222222,\"#7201a8\"],[0.3333333333333333,\"#9c179e\"],[0.4444444444444444,\"#bd3786\"],[0.5555555555555556,\"#d8576b\"],[0.6666666666666666,\"#ed7953\"],[0.7777777777777778,\"#fb9f3a\"],[0.8888888888888888,\"#fdca26\"],[1.0,\"#f0f921\"]]}],\"mesh3d\":[{\"type\":\"mesh3d\",\"colorbar\":{\"outlinewidth\":0,\"ticks\":\"\"}}],\"scatter\":[{\"fillpattern\":{\"fillmode\":\"overlay\",\"size\":10,\"solidity\":0.2},\"type\":\"scatter\"}],\"parcoords\":[{\"type\":\"parcoords\",\"line\":{\"colorbar\":{\"outlinewidth\":0,\"ticks\":\"\"}}}],\"scatterpolargl\":[{\"type\":\"scatterpolargl\",\"marker\":{\"colorbar\":{\"outlinewidth\":0,\"ticks\":\"\"}}}],\"bar\":[{\"error_x\":{\"color\":\"#2a3f5f\"},\"error_y\":{\"color\":\"#2a3f5f\"},\"marker\":{\"line\":{\"color\":\"#E5ECF6\",\"width\":0.5},\"pattern\":{\"fillmode\":\"overlay\",\"size\":10,\"solidity\":0.2}},\"type\":\"bar\"}],\"scattergeo\":[{\"type\":\"scattergeo\",\"marker\":{\"colorbar\":{\"outlinewidth\":0,\"ticks\":\"\"}}}],\"scatterpolar\":[{\"type\":\"scatterpolar\",\"marker\":{\"colorbar\":{\"outlinewidth\":0,\"ticks\":\"\"}}}],\"histogram\":[{\"marker\":{\"pattern\":{\"fillmode\":\"overlay\",\"size\":10,\"solidity\":0.2}},\"type\":\"histogram\"}],\"scattergl\":[{\"type\":\"scattergl\",\"marker\":{\"colorbar\":{\"outlinewidth\":0,\"ticks\":\"\"}}}],\"scatter3d\":[{\"type\":\"scatter3d\",\"line\":{\"colorbar\":{\"outlinewidth\":0,\"ticks\":\"\"}},\"marker\":{\"colorbar\":{\"outlinewidth\":0,\"ticks\":\"\"}}}],\"scattermapbox\":[{\"type\":\"scattermapbox\",\"marker\":{\"colorbar\":{\"outlinewidth\":0,\"ticks\":\"\"}}}],\"scatterternary\":[{\"type\":\"scatterternary\",\"marker\":{\"colorbar\":{\"outlinewidth\":0,\"ticks\":\"\"}}}],\"scattercarpet\":[{\"type\":\"scattercarpet\",\"marker\":{\"colorbar\":{\"outlinewidth\":0,\"ticks\":\"\"}}}],\"carpet\":[{\"aaxis\":{\"endlinecolor\":\"#2a3f5f\",\"gridcolor\":\"white\",\"linecolor\":\"white\",\"minorgridcolor\":\"white\",\"startlinecolor\":\"#2a3f5f\"},\"baxis\":{\"endlinecolor\":\"#2a3f5f\",\"gridcolor\":\"white\",\"linecolor\":\"white\",\"minorgridcolor\":\"white\",\"startlinecolor\":\"#2a3f5f\"},\"type\":\"carpet\"}],\"table\":[{\"cells\":{\"fill\":{\"color\":\"#EBF0F8\"},\"line\":{\"color\":\"white\"}},\"header\":{\"fill\":{\"color\":\"#C8D4E3\"},\"line\":{\"color\":\"white\"}},\"type\":\"table\"}],\"barpolar\":[{\"marker\":{\"line\":{\"color\":\"#E5ECF6\",\"width\":0.5},\"pattern\":{\"fillmode\":\"overlay\",\"size\":10,\"solidity\":0.2}},\"type\":\"barpolar\"}],\"pie\":[{\"automargin\":true,\"type\":\"pie\"}]},\"layout\":{\"autotypenumbers\":\"strict\",\"colorway\":[\"#636efa\",\"#EF553B\",\"#00cc96\",\"#ab63fa\",\"#FFA15A\",\"#19d3f3\",\"#FF6692\",\"#B6E880\",\"#FF97FF\",\"#FECB52\"],\"font\":{\"color\":\"#2a3f5f\"},\"hovermode\":\"closest\",\"hoverlabel\":{\"align\":\"left\"},\"paper_bgcolor\":\"white\",\"plot_bgcolor\":\"#E5ECF6\",\"polar\":{\"bgcolor\":\"#E5ECF6\",\"angularaxis\":{\"gridcolor\":\"white\",\"linecolor\":\"white\",\"ticks\":\"\"},\"radialaxis\":{\"gridcolor\":\"white\",\"linecolor\":\"white\",\"ticks\":\"\"}},\"ternary\":{\"bgcolor\":\"#E5ECF6\",\"aaxis\":{\"gridcolor\":\"white\",\"linecolor\":\"white\",\"ticks\":\"\"},\"baxis\":{\"gridcolor\":\"white\",\"linecolor\":\"white\",\"ticks\":\"\"},\"caxis\":{\"gridcolor\":\"white\",\"linecolor\":\"white\",\"ticks\":\"\"}},\"coloraxis\":{\"colorbar\":{\"outlinewidth\":0,\"ticks\":\"\"}},\"colorscale\":{\"sequential\":[[0.0,\"#0d0887\"],[0.1111111111111111,\"#46039f\"],[0.2222222222222222,\"#7201a8\"],[0.3333333333333333,\"#9c179e\"],[0.4444444444444444,\"#bd3786\"],[0.5555555555555556,\"#d8576b\"],[0.6666666666666666,\"#ed7953\"],[0.7777777777777778,\"#fb9f3a\"],[0.8888888888888888,\"#fdca26\"],[1.0,\"#f0f921\"]],\"sequentialminus\":[[0.0,\"#0d0887\"],[0.1111111111111111,\"#46039f\"],[0.2222222222222222,\"#7201a8\"],[0.3333333333333333,\"#9c179e\"],[0.4444444444444444,\"#bd3786\"],[0.5555555555555556,\"#d8576b\"],[0.6666666666666666,\"#ed7953\"],[0.7777777777777778,\"#fb9f3a\"],[0.8888888888888888,\"#fdca26\"],[1.0,\"#f0f921\"]],\"diverging\":[[0,\"#8e0152\"],[0.1,\"#c51b7d\"],[0.2,\"#de77ae\"],[0.3,\"#f1b6da\"],[0.4,\"#fde0ef\"],[0.5,\"#f7f7f7\"],[0.6,\"#e6f5d0\"],[0.7,\"#b8e186\"],[0.8,\"#7fbc41\"],[0.9,\"#4d9221\"],[1,\"#276419\"]]},\"xaxis\":{\"gridcolor\":\"white\",\"linecolor\":\"white\",\"ticks\":\"\",\"title\":{\"standoff\":15},\"zerolinecolor\":\"white\",\"automargin\":true,\"zerolinewidth\":2},\"yaxis\":{\"gridcolor\":\"white\",\"linecolor\":\"white\",\"ticks\":\"\",\"title\":{\"standoff\":15},\"zerolinecolor\":\"white\",\"automargin\":true,\"zerolinewidth\":2},\"scene\":{\"xaxis\":{\"backgroundcolor\":\"#E5ECF6\",\"gridcolor\":\"white\",\"linecolor\":\"white\",\"showbackground\":true,\"ticks\":\"\",\"zerolinecolor\":\"white\",\"gridwidth\":2},\"yaxis\":{\"backgroundcolor\":\"#E5ECF6\",\"gridcolor\":\"white\",\"linecolor\":\"white\",\"showbackground\":true,\"ticks\":\"\",\"zerolinecolor\":\"white\",\"gridwidth\":2},\"zaxis\":{\"backgroundcolor\":\"#E5ECF6\",\"gridcolor\":\"white\",\"linecolor\":\"white\",\"showbackground\":true,\"ticks\":\"\",\"zerolinecolor\":\"white\",\"gridwidth\":2}},\"shapedefaults\":{\"line\":{\"color\":\"#2a3f5f\"}},\"annotationdefaults\":{\"arrowcolor\":\"#2a3f5f\",\"arrowhead\":0,\"arrowwidth\":1},\"geo\":{\"bgcolor\":\"white\",\"landcolor\":\"#E5ECF6\",\"subunitcolor\":\"white\",\"showland\":true,\"showlakes\":true,\"lakecolor\":\"white\"},\"title\":{\"x\":0.05},\"mapbox\":{\"style\":\"light\"}}},\"showlegend\":false,\"annotations\":[{\"font\":{\"color\":\"red\",\"size\":10},\"showarrow\":false,\"text\":\"(0,-3,0)\",\"x\":5.551270527880698,\"y\":-0.250000000000001},{\"font\":{\"color\":\"red\",\"size\":10},\"showarrow\":false,\"text\":\"(3,-3,0)\",\"x\":2.7756352639403463,\"y\":-5.057541300424535},{\"font\":{\"color\":\"red\",\"size\":10},\"showarrow\":false,\"text\":\"(0,-2,0)\",\"x\":3.700847018587132,\"y\":-0.25000000000000067},{\"font\":{\"color\":\"red\",\"size\":10},\"showarrow\":false,\"text\":\"(1,-2,0)\",\"x\":2.775635263940348,\"y\":-1.8525137668081784},{\"font\":{\"color\":\"red\",\"size\":10},\"showarrow\":false,\"text\":\"(2,-2,0)\",\"x\":1.8504235092935648,\"y\":-3.455027533616356},{\"font\":{\"color\":\"red\",\"size\":10},\"showarrow\":false,\"text\":\"(-1,-1,0)\",\"x\":2.77563526394035,\"y\":1.3525137668081775},{\"font\":{\"color\":\"red\",\"size\":10},\"showarrow\":false,\"text\":\"(0,-1,0)\",\"x\":1.8504235092935666,\"y\":-0.25},{\"font\":{\"color\":\"red\",\"size\":10},\"showarrow\":false,\"text\":\"(1,-1,0)\",\"x\":0.9252117546467824,\"y\":-1.852513766808178},{\"font\":{\"color\":\"red\",\"size\":10},\"showarrow\":false,\"text\":\"(2,-1,0)\",\"x\":-1.7763568394002505e-15,\"y\":-3.455027533616356},{\"font\":{\"color\":\"red\",\"size\":10},\"showarrow\":false,\"text\":\"(-3,0,0)\",\"x\":2.7756352639403516,\"y\":4.557541300424534},{\"font\":{\"color\":\"red\",\"size\":10},\"showarrow\":false,\"text\":\"(-2,0,0)\",\"x\":1.8504235092935675,\"y\":2.9550275336163554},{\"font\":{\"color\":\"red\",\"size\":10},\"showarrow\":false,\"text\":\"(-1,0,0)\",\"x\":0.9252117546467837,\"y\":1.3525137668081777},{\"font\":{\"color\":\"red\",\"size\":10},\"showarrow\":false,\"text\":\"(1,0,0)\",\"x\":-0.9252117546467837,\"y\":-1.8525137668081777},{\"font\":{\"color\":\"red\",\"size\":10},\"showarrow\":false,\"text\":\"(2,0,0)\",\"x\":-1.8504235092935675,\"y\":-3.4550275336163554},{\"font\":{\"color\":\"red\",\"size\":10},\"showarrow\":false,\"text\":\"(3,0,0)\",\"x\":-2.7756352639403516,\"y\":-5.057541300424534},{\"font\":{\"color\":\"red\",\"size\":10},\"showarrow\":false,\"text\":\"(-2,1,0)\",\"x\":1.7763568394002505e-15,\"y\":2.955027533616356},{\"font\":{\"color\":\"red\",\"size\":10},\"showarrow\":false,\"text\":\"(-1,1,0)\",\"x\":-0.9252117546467824,\"y\":1.352513766808178},{\"font\":{\"color\":\"red\",\"size\":10},\"showarrow\":false,\"text\":\"(0,1,0)\",\"x\":-1.850423509293566,\"y\":-0.24999999999999967},{\"font\":{\"color\":\"red\",\"size\":10},\"showarrow\":false,\"text\":\"(1,1,0)\",\"x\":-2.77563526394035,\"y\":-1.8525137668081775},{\"font\":{\"color\":\"red\",\"size\":10},\"showarrow\":false,\"text\":\"(-2,2,0)\",\"x\":-1.8504235092935648,\"y\":2.955027533616356},{\"font\":{\"color\":\"red\",\"size\":10},\"showarrow\":false,\"text\":\"(-1,2,0)\",\"x\":-2.775635263940348,\"y\":1.3525137668081784},{\"font\":{\"color\":\"red\",\"size\":10},\"showarrow\":false,\"text\":\"(0,2,0)\",\"x\":-3.700847018587132,\"y\":-0.24999999999999933},{\"font\":{\"color\":\"red\",\"size\":10},\"showarrow\":false,\"text\":\"(-3,3,0)\",\"x\":-2.7756352639403463,\"y\":4.557541300424535},{\"font\":{\"color\":\"red\",\"size\":10},\"showarrow\":false,\"text\":\"(0,3,0)\",\"x\":-5.551270527880698,\"y\":-0.249999999999999}]},                        {\"responsive\": true}                    ).then(function(){\n",
       "                            \n",
       "var gd = document.getElementById('1b74977b-b426-461d-ad09-58e1ec80aedd');\n",
       "var x = new MutationObserver(function (mutations, observer) {{\n",
       "        var display = window.getComputedStyle(gd).display;\n",
       "        if (!display || display === 'none') {{\n",
       "            console.log([gd, 'removed!']);\n",
       "            Plotly.purge(gd);\n",
       "            observer.disconnect();\n",
       "        }}\n",
       "}});\n",
       "\n",
       "// Listen for the removal of the full notebook cells\n",
       "var notebookContainer = gd.closest('#notebook-container');\n",
       "if (notebookContainer) {{\n",
       "    x.observe(notebookContainer, {childList: true});\n",
       "}}\n",
       "\n",
       "// Listen for the clearing of the current output cell\n",
       "var outputEl = gd.closest('.output');\n",
       "if (outputEl) {{\n",
       "    x.observe(outputEl, {childList: true});\n",
       "}}\n",
       "\n",
       "                        })                };                });            </script>        </div>"
      ]
     },
     "metadata": {},
     "output_type": "display_data"
    }
   ],
   "source": [
    "# generate TEM diffraction pattern\n",
    "tem_calculator = TEMCalculator(voltage=200, beam_direction=(0,0,1))\n",
    "points = tem_calculator.generate_points(-10, 11)  # grid of points to check (3D cube)\n",
    "tem_dots = tem_calculator.tem_dots(structure_bn, points)  # Get reciprocal lattice points\n",
    "\n",
    "# extract spot data\n",
    "xs = []\n",
    "ys = []\n",
    "hkls = []\n",
    "intensities = []\n",
    "for dot in tem_dots:\n",
    "    xs.append(dot.position[0])\n",
    "    ys.append(dot.position[1])\n",
    "    hkls.append(str(dot.hkl))\n",
    "    intensities.append(dot.intensity)\n",
    "\n",
    "# format hkl labels\n",
    "hkls = [hkl.replace(\" \", \"\") for hkl in hkls]\n",
    "\n",
    "# create base SAED plot\n",
    "fig = tem_calculator.get_plot_2d(structure)\n",
    "\n",
    "# add annotations on fig for spots with intensity above the threshold\n",
    "intensity_threshold = 0.1\n",
    "annotations = []\n",
    "for x, y, hkl, intensity in zip(xs, ys, hkls, intensities):\n",
    "    if intensity > intensity_threshold:\n",
    "        annotations.append(\n",
    "            dict(\n",
    "                x=x,\n",
    "                y=y-0.25,\n",
    "                text=hkl,\n",
    "                showarrow=False,\n",
    "                font=dict(size=10, color=\"red\"),\n",
    "            )\n",
    "        )\n",
    "\n",
    "# update the plot parameters\n",
    "fig.update_layout(\n",
    "    title=\"TEM Diffraction (SAED) Pattern - Boron Nitride (BN)\",\n",
    "    xaxis_title=\"Reciprocal Space X\",\n",
    "    yaxis_title=\"Reciprocal Space Y\",\n",
    "    xaxis=dict(scaleanchor=\"y\"),  # equal scaling for axes\n",
    "    showlegend=False,\n",
    "    annotations=annotations,\n",
    ")\n",
    "\n",
    "# how the interactive plot\n",
    "fig.show()"
   ]
  },
  {
   "cell_type": "markdown",
   "id": "d2bae9b4",
   "metadata": {},
   "source": [
    "References: \n",
    "\n",
    "\n",
    "[1] - https://aflowlib.org/p/AB_hP4_194_c_d-001/\n",
    "\n",
    "[2] - https://github.com/computron/pymatgen_tutorials/blob/main/Part_5-Five_Features/pymatgen_pt5_five_features.ipynb"
   ]
  }
 ],
 "metadata": {
  "kernelspec": {
   "display_name": "Python 3 (ipykernel)",
   "language": "python",
   "name": "python3"
  },
  "language_info": {
   "codemirror_mode": {
    "name": "ipython",
    "version": 3
   },
   "file_extension": ".py",
   "mimetype": "text/x-python",
   "name": "python",
   "nbconvert_exporter": "python",
   "pygments_lexer": "ipython3",
   "version": "3.8.8"
  }
 },
 "nbformat": 4,
 "nbformat_minor": 5
}
